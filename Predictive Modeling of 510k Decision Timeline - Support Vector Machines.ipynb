{
 "cells": [
  {
   "cell_type": "markdown",
   "metadata": {},
   "source": [
    "## Support Vector Machines for prediction\n",
    "\n",
    "Let's try using Support Vector machines algorithm for prediction.\n",
    "\n",
    "### Feature selection pipeline"
   ]
  },
  {
   "cell_type": "code",
   "execution_count": 1,
   "metadata": {},
   "outputs": [],
   "source": [
    "from sklearn.pipeline import Pipeline, FeatureUnion\n",
    "from sklearn.preprocessing import MaxAbsScaler,FunctionTransformer, Imputer\n",
    "from sklearn.feature_selection import SelectKBest, f_regression\n",
    "from sklearn.feature_extraction.text import HashingVectorizer\n",
    "\n",
    "# First we build two utility functions to parse numeric and text data, \n",
    "# and wrap them using FunctionTransformer, so that they can be integrated into a sklearn pipeline:\n",
    "def text_columns(X_train):\n",
    "    return X_train.TEXT_FEATURES\n",
    "\n",
    "def numeric_columns(X_train):\n",
    "    numeric = ['APPLICANT_PRIOR_CLEARANCE_TO_DATE','DEVICENAME_PRIOR_CLEARANCE_TO_DATE']\n",
    "    temp = X_train[numeric]\n",
    "    return temp\n",
    "\n",
    "get_numeric_data = FunctionTransformer(func = numeric_columns, validate=False) \n",
    "get_text_data = FunctionTransformer(func = text_columns,validate=False) \n",
    "# Note how we avoid putting any arguments into text_columns and numeric_columns\n",
    "\n",
    "# We also need to create our regex token pattern to use in HashingVectorizer. \n",
    "TOKENS_ALPHANUMERIC = '[A-Za-z0-9]+(?=\\\\s+)'   \n",
    "#Note this regex will match either a whitespace or a punctuation to tokenize the string vector on these preferences  \n",
    "\n",
    "# We also need to redefine the default feature selection function for regression to properly place into our pipeline:\n",
    "def f_regression(X,Y):\n",
    "    import sklearn\n",
    "    return sklearn.feature_selection.f_regression(X,Y,center = False) # default is center = True\n",
    "\n",
    "\n",
    "pipeline510k_SVM1 = Pipeline([\n",
    "    \n",
    "    (\"union\",FeatureUnion( # Note that FeatureUnion() accepts list of tuples, the first half of each tuple is the name of the transformer\n",
    "        \n",
    "        transformer_list = [\n",
    "            \n",
    "            (\"numeric_subpipeline\", Pipeline([ # Note we have subpipeline branches inside the main pipeline\n",
    "                \n",
    "                (\"parser\",get_numeric_data), # Step1: parse the numeric data (note how we avoid () when using FunctionTransformer objects)\n",
    "                (\"imputer\",Imputer()), # Step2: impute missing values (we don't expect any)\n",
    "            \n",
    "            ])), # Branching point of the FeatureUnion\n",
    "            \n",
    "            (\"text_subpipeline\",Pipeline([\n",
    "            \n",
    "                (\"parser\",get_text_data), # Step1: parse the text data \n",
    "                (\"tokenizer\",HashingVectorizer(token_pattern= TOKENS_ALPHANUMERIC,n_features= 2*(2 ** 18),decode_error='ignore',\n",
    "                                             stop_words = \"english\",# We will remove English stop words before tokenization\n",
    "                                             ngram_range = (1,2), # We will tokenize up to two words only\n",
    "                                             non_negative=True, norm=None, binary=True  \n",
    "                                            )) # Step2: use HashingVectorizer for automated tokenization and feature extraction\n",
    "                                           \n",
    "                \n",
    "            ]))\n",
    "        ]\n",
    "    \n",
    "    )),# Branching point to the main pipeline: at this point all features are numeric\n",
    "    \n",
    "    (\"scaler\",MaxAbsScaler()) # Scale the features\n",
    "    \n",
    "])\n"
   ]
  },
  {
   "cell_type": "code",
   "execution_count": 2,
   "metadata": {},
   "outputs": [],
   "source": [
    "import pickle\n",
    "# Load Training and Validation sets\n",
    "disk = \"D:\\Data_science\\GitHub\\Predictive-Modeling-510k-decision-time\"\n",
    "# Validation set \n",
    "with open(disk+\"\\X_val.pkl\",\"rb\") as f:\n",
    "    X_val=pickle.load(f)\n",
    "\n",
    "with open(disk+\"\\y_val.pkl\",\"rb\") as f:\n",
    "    y_val=pickle.load(f)\n",
    "    \n",
    "# Training set (Locked down)\n",
    "with open(disk+\"\\X_train.pkl\",\"rb\") as f:\n",
    "    X_train=pickle.load(f)\n",
    "\n",
    "with open(disk+\"\\y_train.pkl\",\"rb\") as f:\n",
    "    y_train=pickle.load(f) "
   ]
  },
  {
   "cell_type": "code",
   "execution_count": 3,
   "metadata": {},
   "outputs": [
    {
     "name": "stdout",
     "output_type": "stream",
     "text": [
      "Completed processing X_train in: 1.4333333333333333 minutes.\n",
      "Completed processing X_val in: 0.31666666666666665 minutes.\n"
     ]
    }
   ],
   "source": [
    "import datetime\n",
    "from warnings import filterwarnings\n",
    "import numpy as np\n",
    "\n",
    "filterwarnings(\"ignore\")\n",
    "\n",
    "start = datetime.datetime.now()\n",
    "\n",
    "X_train_trans_SVM = pipeline510k_SVM1.fit(X_train, y_train).transform(X_train)\n",
    "\n",
    "end = datetime.datetime.now()\n",
    "print(\"Completed processing X_train in: \" + str((end-start).seconds/60) + \" minutes.\")\n",
    "\n",
    "start = datetime.datetime.now()\n",
    "\n",
    "X_val_trans_SVM = pipeline510k_SVM1.transform(X_val)\n",
    "\n",
    "end = datetime.datetime.now()\n",
    "print(\"Completed processing X_val in: \" + str((end-start).seconds/60) + \" minutes.\")"
   ]
  },
  {
   "cell_type": "code",
   "execution_count": 4,
   "metadata": {},
   "outputs": [
    {
     "name": "stdout",
     "output_type": "stream",
     "text": [
      "(32275, 524290)\n",
      "(15899, 524290)\n",
      "<class 'scipy.sparse.csr.csr_matrix'>\n",
      "<class 'scipy.sparse.csr.csr_matrix'>\n"
     ]
    }
   ],
   "source": [
    "print(X_train_trans_SVM.shape)\n",
    "print(X_val_trans_SVM.shape)\n",
    "print(type(X_train_trans_SVM))\n",
    "print(type(X_val_trans_SVM))"
   ]
  },
  {
   "cell_type": "code",
   "execution_count": 8,
   "metadata": {},
   "outputs": [
    {
     "name": "stdout",
     "output_type": "stream",
     "text": [
      "Training model using 300 features.\n",
      "Completed model fit and predictions using 300 in: 0.2833333333333333 minutes.\n",
      "Median Absolute Error: 47.00352244068755 features.\n",
      "****************************************************************************************************\n",
      "Training model using 5000 features.\n",
      "Completed model fit and predictions using 5000 in: 0.8166666666666667 minutes.\n",
      "Median Absolute Error: 44.01806540280069 features.\n",
      "****************************************************************************************************\n",
      "Training model using 10000 features.\n",
      "Completed model fit and predictions using 10000 in: 0.85 minutes.\n",
      "Median Absolute Error: 44.71503525577094 features.\n",
      "****************************************************************************************************\n",
      "Training model using 20000 features.\n",
      "Completed model fit and predictions using 20000 in: 1.0333333333333334 minutes.\n",
      "Median Absolute Error: 57.84838279721092 features.\n",
      "****************************************************************************************************\n",
      "Training model using 50000 features.\n",
      "Completed model fit and predictions using 50000 in: 1.5166666666666666 minutes.\n",
      "Median Absolute Error: 62.321215839895274 features.\n",
      "****************************************************************************************************\n",
      "Training model using 100000 features.\n",
      "Completed model fit and predictions using 100000 in: 1.1333333333333333 minutes.\n",
      "Median Absolute Error: 45.5669291455931 features.\n",
      "****************************************************************************************************\n",
      "Training model using 200000 features.\n",
      "Completed model fit and predictions using 200000 in: 0.5166666666666667 minutes.\n",
      "Median Absolute Error: 39.74377149184227 features.\n",
      "****************************************************************************************************\n",
      "Training model using 400000 features.\n",
      "Completed model fit and predictions using 400000 in: 0.3333333333333333 minutes.\n",
      "Median Absolute Error: 37.30070119922986 features.\n",
      "****************************************************************************************************\n",
      "Training model using 500000 features.\n",
      "Completed model fit and predictions using 500000 in: 0.3333333333333333 minutes.\n",
      "Median Absolute Error: 36.3609191055819 features.\n",
      "****************************************************************************************************\n"
     ]
    }
   ],
   "source": [
    "from sklearn.metrics import median_absolute_error\n",
    "import numpy as np\n",
    "filterwarnings(\"ignore\")\n",
    "\n",
    "n_features_list = [300,5000,10000,20000,50000,100000,200000,400000,500000]\n",
    "mae_list = []\n",
    "time_list = []\n",
    "\n",
    "for n_features in n_features_list:\n",
    "    print(\"Training model using \"+ str(n_features)+ \" features.\")\n",
    "    \n",
    "    # Testing feature selection based on training set\n",
    "    Xt = SelectKBest(f_regression,n_features).fit(X_train_trans_SVM,y_train).transform(X_train_trans_SVM)\n",
    "    Xv = SelectKBest(f_regression,n_features).fit(X_train_trans_SVM,y_train).transform(X_val_trans_SVM)\n",
    "\n",
    "    start = datetime.datetime.now()\n",
    "    \n",
    "    # Fixed model structure \n",
    "    from sklearn.svm import LinearSVR\n",
    "  \n",
    "    svr = LinearSVR()\n",
    "    svr.fit(Xt, np.log(y_train))\n",
    "    \n",
    "    preds = svr.predict(Xv)\n",
    "\n",
    "    # Out-of-box performance using validation set\n",
    "    mae = median_absolute_error(y_val,np.exp(preds))\n",
    "\n",
    "    end = datetime.datetime.now()\n",
    "    \n",
    "    mae_list.append(mae)\n",
    "    time_list.append((end-start).seconds/60)\n",
    "\n",
    "    print(\"Completed model fit and predictions using \"+ str(n_features) + \" in: \" + str((end-start).seconds/60) + \" minutes.\")\n",
    "    print(\"Median Absolute Error: \"+ str(mae) + \" features.\")\n",
    "    print(\"*\" * 100)\n"
   ]
  },
  {
   "cell_type": "code",
   "execution_count": 10,
   "metadata": {},
   "outputs": [
    {
     "data": {
      "image/png": "[encoded data removed]",
      "text/plain": [
       "<matplotlib.figure.Figure at 0x29ca14f7a58>"
      ]
     },
     "metadata": {},
     "output_type": "display_data"
    }
   ],
   "source": [
    "import matplotlib.pyplot as plt\n",
    "plt.plot(n_features_list, mae_list, marker = \"o\", c = \"b\")\n",
    "plt.title(\"Performance of Networks and # of features\")\n",
    "plt.xlabel(\"Number of features\")\n",
    "plt.ylabel(\"Validation median absolute error\")\n",
    "plt.show()"
   ]
  },
  {
   "cell_type": "code",
   "execution_count": 12,
   "metadata": {},
   "outputs": [
    {
     "data": {
      "image/png": "[encoded data removed]",
      "text/plain": [
       "<matplotlib.figure.Figure at 0x29ca1616358>"
      ]
     },
     "metadata": {},
     "output_type": "display_data"
    }
   ],
   "source": [
    "plt.plot(n_features_list, time_list, marker = \"o\", c = \"r\")\n",
    "plt.title(\"Computational cost of Networks and # of features\")\n",
    "plt.xlabel(\"Number of features\")\n",
    "plt.ylabel(\"Training time (min)\")\n",
    "plt.show()"
   ]
  },
  {
   "cell_type": "markdown",
   "metadata": {},
   "source": [
    "Let's try to extract more features to see if this trend continues for SV regressor. We will tokenize up to 3 words and increase the hashing feature capacity."
   ]
  },
  {
   "cell_type": "code",
   "execution_count": 13,
   "metadata": {},
   "outputs": [],
   "source": [
    "from sklearn.pipeline import Pipeline, FeatureUnion\n",
    "from sklearn.preprocessing import MaxAbsScaler,FunctionTransformer, Imputer\n",
    "from sklearn.feature_selection import SelectKBest, f_regression\n",
    "from sklearn.feature_extraction.text import HashingVectorizer\n",
    "\n",
    "# First we build two utility functions to parse numeric and text data, \n",
    "# and wrap them using FunctionTransformer, so that they can be integrated into a sklearn pipeline:\n",
    "def text_columns(X_train):\n",
    "    return X_train.TEXT_FEATURES\n",
    "\n",
    "def numeric_columns(X_train):\n",
    "    numeric = ['APPLICANT_PRIOR_CLEARANCE_TO_DATE','DEVICENAME_PRIOR_CLEARANCE_TO_DATE']\n",
    "    temp = X_train[numeric]\n",
    "    return temp\n",
    "\n",
    "get_numeric_data = FunctionTransformer(func = numeric_columns, validate=False) \n",
    "get_text_data = FunctionTransformer(func = text_columns,validate=False) \n",
    "# Note how we avoid putting any arguments into text_columns and numeric_columns\n",
    "\n",
    "# We also need to create our regex token pattern to use in HashingVectorizer. \n",
    "TOKENS_ALPHANUMERIC = '[A-Za-z0-9]+(?=\\\\s+)'   \n",
    "#Note this regex will match either a whitespace or a punctuation to tokenize the string vector on these preferences  \n",
    "\n",
    "# We also need to redefine the default feature selection function for regression to properly place into our pipeline:\n",
    "def f_regression(X,Y):\n",
    "    import sklearn\n",
    "    return sklearn.feature_selection.f_regression(X,Y,center = False) # default is center = True\n",
    "\n",
    "\n",
    "pipeline510k_SVM1 = Pipeline([\n",
    "    \n",
    "    (\"union\",FeatureUnion( # Note that FeatureUnion() accepts list of tuples, the first half of each tuple is the name of the transformer\n",
    "        \n",
    "        transformer_list = [\n",
    "            \n",
    "            (\"numeric_subpipeline\", Pipeline([ # Note we have subpipeline branches inside the main pipeline\n",
    "                \n",
    "                (\"parser\",get_numeric_data), # Step1: parse the numeric data (note how we avoid () when using FunctionTransformer objects)\n",
    "                (\"imputer\",Imputer()), # Step2: impute missing values (we don't expect any)\n",
    "            \n",
    "            ])), # Branching point of the FeatureUnion\n",
    "            \n",
    "            (\"text_subpipeline\",Pipeline([\n",
    "            \n",
    "                (\"parser\",get_text_data), # Step1: parse the text data \n",
    "                (\"tokenizer\",HashingVectorizer(token_pattern= TOKENS_ALPHANUMERIC,n_features= 8*(2 ** 18),decode_error='ignore',\n",
    "                                             stop_words = \"english\",# We will remove English stop words before tokenization\n",
    "                                             ngram_range = (1,3), # We will tokenize up to 3 words only\n",
    "                                             non_negative=True, norm=None, binary=True  \n",
    "                                            )) # Step2: use HashingVectorizer for automated tokenization and feature extraction\n",
    "                                           \n",
    "                \n",
    "            ]))\n",
    "        ]\n",
    "    \n",
    "    )),# Branching point to the main pipeline: at this point all features are numeric\n",
    "    \n",
    "    (\"scaler\",MaxAbsScaler()) # Scale the features\n",
    "    \n",
    "])\n"
   ]
  },
  {
   "cell_type": "code",
   "execution_count": 14,
   "metadata": {},
   "outputs": [
    {
     "name": "stdout",
     "output_type": "stream",
     "text": [
      "Completed processing X_train in: 2.4 minutes.\n",
      "Completed processing X_val in: 0.4666666666666667 minutes.\n"
     ]
    }
   ],
   "source": [
    "import datetime\n",
    "from warnings import filterwarnings\n",
    "import numpy as np\n",
    "\n",
    "filterwarnings(\"ignore\")\n",
    "\n",
    "start = datetime.datetime.now()\n",
    "\n",
    "X_train_trans_SVM = pipeline510k_SVM1.fit(X_train, y_train).transform(X_train)\n",
    "\n",
    "end = datetime.datetime.now()\n",
    "print(\"Completed processing X_train in: \" + str((end-start).seconds/60) + \" minutes.\")\n",
    "\n",
    "start = datetime.datetime.now()\n",
    "\n",
    "X_val_trans_SVM = pipeline510k_SVM1.transform(X_val)\n",
    "\n",
    "end = datetime.datetime.now()\n",
    "print(\"Completed processing X_val in: \" + str((end-start).seconds/60) + \" minutes.\")"
   ]
  },
  {
   "cell_type": "code",
   "execution_count": 15,
   "metadata": {},
   "outputs": [
    {
     "name": "stdout",
     "output_type": "stream",
     "text": [
      "(32275, 2097154)\n",
      "(15899, 2097154)\n",
      "<class 'scipy.sparse.csr.csr_matrix'>\n",
      "<class 'scipy.sparse.csr.csr_matrix'>\n"
     ]
    }
   ],
   "source": [
    "print(X_train_trans_SVM.shape)\n",
    "print(X_val_trans_SVM.shape)\n",
    "print(type(X_train_trans_SVM))\n",
    "print(type(X_val_trans_SVM))"
   ]
  },
  {
   "cell_type": "code",
   "execution_count": 16,
   "metadata": {},
   "outputs": [
    {
     "name": "stdout",
     "output_type": "stream",
     "text": [
      "Training model using 300 features.\n",
      "Completed model fit and predictions using 300 in: 0.23333333333333334 minutes.\n",
      "Median Absolute Error: 43.10209678379755 features.\n",
      "****************************************************************************************************\n",
      "Training model using 5000 features.\n",
      "Completed model fit and predictions using 5000 in: 1.0833333333333333 minutes.\n",
      "Median Absolute Error: 40.698533087388725 features.\n",
      "****************************************************************************************************\n",
      "Training model using 10000 features.\n",
      "Completed model fit and predictions using 10000 in: 1.4166666666666667 minutes.\n",
      "Median Absolute Error: 50.301215156011494 features.\n",
      "****************************************************************************************************\n",
      "Training model using 20000 features.\n",
      "Completed model fit and predictions using 20000 in: 1.6 minutes.\n",
      "Median Absolute Error: 65.80833146725905 features.\n",
      "****************************************************************************************************\n",
      "Training model using 50000 features.\n",
      "Completed model fit and predictions using 50000 in: 2.0 minutes.\n",
      "Median Absolute Error: 64.92526295900089 features.\n",
      "****************************************************************************************************\n",
      "Training model using 100000 features.\n",
      "Completed model fit and predictions using 100000 in: 1.9833333333333334 minutes.\n",
      "Median Absolute Error: 46.532123212204795 features.\n",
      "****************************************************************************************************\n",
      "Training model using 200000 features.\n",
      "Completed model fit and predictions using 200000 in: 0.9166666666666666 minutes.\n",
      "Median Absolute Error: 40.25180050221098 features.\n",
      "****************************************************************************************************\n",
      "Training model using 400000 features.\n",
      "Completed model fit and predictions using 400000 in: 0.55 minutes.\n",
      "Median Absolute Error: 37.27821341099345 features.\n",
      "****************************************************************************************************\n",
      "Training model using 500000 features.\n",
      "Completed model fit and predictions using 500000 in: 0.6333333333333333 minutes.\n",
      "Median Absolute Error: 36.799537796475164 features.\n",
      "****************************************************************************************************\n",
      "Training model using 600000 features.\n",
      "Completed model fit and predictions using 600000 in: 0.65 minutes.\n",
      "Median Absolute Error: 36.199213174447365 features.\n",
      "****************************************************************************************************\n",
      "Training model using 700000 features.\n",
      "Completed model fit and predictions using 700000 in: 0.6666666666666666 minutes.\n",
      "Median Absolute Error: 35.946571774565214 features.\n",
      "****************************************************************************************************\n",
      "Training model using 800000 features.\n",
      "Completed model fit and predictions using 800000 in: 0.7 minutes.\n",
      "Median Absolute Error: 35.8834140588429 features.\n",
      "****************************************************************************************************\n",
      "Training model using 900000 features.\n",
      "Completed model fit and predictions using 900000 in: 0.7166666666666667 minutes.\n",
      "Median Absolute Error: 35.65518801244147 features.\n",
      "****************************************************************************************************\n",
      "Training model using 1000000 features.\n",
      "Completed model fit and predictions using 1000000 in: 0.5833333333333334 minutes.\n",
      "Median Absolute Error: 35.312919334938556 features.\n",
      "****************************************************************************************************\n",
      "Training model using 1500000 features.\n",
      "Completed model fit and predictions using 1500000 in: 0.7166666666666667 minutes.\n",
      "Median Absolute Error: 35.12741224132378 features.\n",
      "****************************************************************************************************\n",
      "Training model using 2000000 features.\n",
      "Completed model fit and predictions using 2000000 in: 0.85 minutes.\n",
      "Median Absolute Error: 34.21634927770424 features.\n",
      "****************************************************************************************************\n"
     ]
    }
   ],
   "source": [
    "from sklearn.metrics import median_absolute_error\n",
    "import numpy as np\n",
    "filterwarnings(\"ignore\")\n",
    "\n",
    "n_features_list = [300,5000,10000,20000,50000,100000,200000,400000,500000,600000,700000,800000,900000,10**6,1500000,2000000]\n",
    "mae_list = []\n",
    "time_list = []\n",
    "\n",
    "for n_features in n_features_list:\n",
    "    print(\"Training model using \"+ str(n_features)+ \" features.\")\n",
    "    \n",
    "    # Testing feature selection based on training set\n",
    "    Xt = SelectKBest(f_regression,n_features).fit(X_train_trans_SVM,y_train).transform(X_train_trans_SVM)\n",
    "    Xv = SelectKBest(f_regression,n_features).fit(X_train_trans_SVM,y_train).transform(X_val_trans_SVM)\n",
    "\n",
    "    start = datetime.datetime.now()\n",
    "    \n",
    "    # Fixed model structure \n",
    "    from sklearn.svm import LinearSVR\n",
    "  \n",
    "    svr = LinearSVR()\n",
    "    svr.fit(Xt, np.log(y_train))\n",
    "    \n",
    "    preds = svr.predict(Xv)\n",
    "\n",
    "    # Out-of-box performance using validation set\n",
    "    mae = median_absolute_error(y_val,np.exp(preds))\n",
    "\n",
    "    end = datetime.datetime.now()\n",
    "    \n",
    "    mae_list.append(mae)\n",
    "    time_list.append((end-start).seconds/60)\n",
    "\n",
    "    print(\"Completed model fit and predictions using \"+ str(n_features) + \" in: \" + str((end-start).seconds/60) + \" minutes.\")\n",
    "    print(\"Median Absolute Error: \"+ str(mae) + \" features.\")\n",
    "    print(\"*\" * 100)\n"
   ]
  },
  {
   "cell_type": "code",
   "execution_count": 17,
   "metadata": {},
   "outputs": [
    {
     "data": {
      "image/png": "[encoded data removed]",
      "text/plain": [
       "<matplotlib.figure.Figure at 0x29ca1677668>"
      ]
     },
     "metadata": {},
     "output_type": "display_data"
    }
   ],
   "source": [
    "import matplotlib.pyplot as plt\n",
    "plt.plot(n_features_list, mae_list, marker = \"o\", c = \"b\")\n",
    "plt.title(\"Performance of Networks and # of features\")\n",
    "plt.xlabel(\"Number of features\")\n",
    "plt.ylabel(\"Validation median absolute error\")\n",
    "plt.show()"
   ]
  },
  {
   "cell_type": "code",
   "execution_count": 18,
   "metadata": {},
   "outputs": [
    {
     "data": {
      "image/png": "[encoded data removed]",
      "text/plain": [
       "<matplotlib.figure.Figure at 0x29ca1669128>"
      ]
     },
     "metadata": {},
     "output_type": "display_data"
    }
   ],
   "source": [
    "plt.plot(n_features_list, time_list, marker = \"o\", c = \"r\")\n",
    "plt.title(\"Computational cost of Networks and # of features\")\n",
    "plt.xlabel(\"Number of features\")\n",
    "plt.ylabel(\"Training time (min)\")\n",
    "plt.show()"
   ]
  },
  {
   "cell_type": "code",
   "execution_count": 22,
   "metadata": {},
   "outputs": [
    {
     "data": {
      "image/png": "[encoded data removed]",
      "text/plain": [
       "<matplotlib.figure.Figure at 0x29c80a66160>"
      ]
     },
     "metadata": {},
     "output_type": "display_data"
    }
   ],
   "source": [
    "# Bechmark model performance on validation set plotted\n",
    "def plot_performance(true, preds, model_name):\n",
    "    import matplotlib.pyplot as plt\n",
    "    import numpy as np\n",
    "    from sklearn.metrics import median_absolute_error \n",
    "    mae = median_absolute_error(true,np.exp(preds))\n",
    "    plt.scatter(x = np.exp(preds), y = true, c = 'blue', s = 3, alpha = 0.2)\n",
    "    plt.xlim(-20,1200)\n",
    "    plt.ylim(-20,1200)\n",
    "    plt.plot([0,1200],[0,1200], \"--k\")\n",
    "    plt.xlabel(\"Predictions\")\n",
    "    plt.ylabel(\"True targets\")\n",
    "    plt.text(0,1100, r\"MAE = %.2f\"%(mae))\n",
    "    plt.title(\"Predictive performance of \"+ model_name + \" model\" )\n",
    " \n",
    "plot_performance(true= y_val, preds= preds, model_name= \"network1\") "
   ]
  },
  {
   "cell_type": "markdown",
   "metadata": {},
   "source": [
    "We still don't see signs of overfitting, at the same time computational costs remain feasible. We will continue extracting features and increase tokenization to 4-grams."
   ]
  },
  {
   "cell_type": "code",
   "execution_count": 23,
   "metadata": {},
   "outputs": [],
   "source": [
    "from sklearn.pipeline import Pipeline, FeatureUnion\n",
    "from sklearn.preprocessing import MaxAbsScaler,FunctionTransformer, Imputer\n",
    "from sklearn.feature_selection import SelectKBest, f_regression\n",
    "from sklearn.feature_extraction.text import HashingVectorizer\n",
    "\n",
    "# First we build two utility functions to parse numeric and text data, \n",
    "# and wrap them using FunctionTransformer, so that they can be integrated into a sklearn pipeline:\n",
    "def text_columns(X_train):\n",
    "    return X_train.TEXT_FEATURES\n",
    "\n",
    "def numeric_columns(X_train):\n",
    "    numeric = ['APPLICANT_PRIOR_CLEARANCE_TO_DATE','DEVICENAME_PRIOR_CLEARANCE_TO_DATE']\n",
    "    temp = X_train[numeric]\n",
    "    return temp\n",
    "\n",
    "get_numeric_data = FunctionTransformer(func = numeric_columns, validate=False) \n",
    "get_text_data = FunctionTransformer(func = text_columns,validate=False) \n",
    "# Note how we avoid putting any arguments into text_columns and numeric_columns\n",
    "\n",
    "# We also need to create our regex token pattern to use in HashingVectorizer. \n",
    "TOKENS_ALPHANUMERIC = '[A-Za-z0-9]+(?=\\\\s+)'   \n",
    "#Note this regex will match either a whitespace or a punctuation to tokenize the string vector on these preferences  \n",
    "\n",
    "# We also need to redefine the default feature selection function for regression to properly place into our pipeline:\n",
    "def f_regression(X,Y):\n",
    "    import sklearn\n",
    "    return sklearn.feature_selection.f_regression(X,Y,center = False) # default is center = True\n",
    "\n",
    "\n",
    "pipeline510k_SVM1 = Pipeline([\n",
    "    \n",
    "    (\"union\",FeatureUnion( # Note that FeatureUnion() accepts list of tuples, the first half of each tuple is the name of the transformer\n",
    "        \n",
    "        transformer_list = [\n",
    "            \n",
    "            (\"numeric_subpipeline\", Pipeline([ # Note we have subpipeline branches inside the main pipeline\n",
    "                \n",
    "                (\"parser\",get_numeric_data), # Step1: parse the numeric data (note how we avoid () when using FunctionTransformer objects)\n",
    "                (\"imputer\",Imputer()), # Step2: impute missing values (we don't expect any)\n",
    "            \n",
    "            ])), # Branching point of the FeatureUnion\n",
    "            \n",
    "            (\"text_subpipeline\",Pipeline([\n",
    "            \n",
    "                (\"parser\",get_text_data), # Step1: parse the text data \n",
    "                (\"tokenizer\",HashingVectorizer(token_pattern= TOKENS_ALPHANUMERIC,n_features= 32*(2 ** 18),decode_error='ignore',\n",
    "                                             stop_words = \"english\",# We will remove English stop words before tokenization\n",
    "                                             ngram_range = (1,4), # We will tokenize up to 4 words only\n",
    "                                             non_negative=True, norm=None, binary=True  \n",
    "                                            )) # Step2: use HashingVectorizer for automated tokenization and feature extraction\n",
    "                                           \n",
    "                \n",
    "            ]))\n",
    "        ]\n",
    "    \n",
    "    )),# Branching point to the main pipeline: at this point all features are numeric\n",
    "    \n",
    "    (\"scaler\",MaxAbsScaler()) # Scale the features\n",
    "    \n",
    "])\n"
   ]
  },
  {
   "cell_type": "code",
   "execution_count": 24,
   "metadata": {},
   "outputs": [
    {
     "name": "stdout",
     "output_type": "stream",
     "text": [
      "Completed processing X_train in: 3.716666666666667 minutes.\n",
      "Completed processing X_val in: 0.8333333333333334 minutes.\n"
     ]
    }
   ],
   "source": [
    "import datetime\n",
    "from warnings import filterwarnings\n",
    "import numpy as np\n",
    "\n",
    "filterwarnings(\"ignore\")\n",
    "\n",
    "start = datetime.datetime.now()\n",
    "\n",
    "X_train_trans_SVM = pipeline510k_SVM1.fit(X_train, y_train).transform(X_train)\n",
    "\n",
    "end = datetime.datetime.now()\n",
    "print(\"Completed processing X_train in: \" + str((end-start).seconds/60) + \" minutes.\")\n",
    "\n",
    "start = datetime.datetime.now()\n",
    "\n",
    "X_val_trans_SVM = pipeline510k_SVM1.transform(X_val)\n",
    "\n",
    "end = datetime.datetime.now()\n",
    "print(\"Completed processing X_val in: \" + str((end-start).seconds/60) + \" minutes.\")"
   ]
  },
  {
   "cell_type": "code",
   "execution_count": 25,
   "metadata": {},
   "outputs": [
    {
     "name": "stdout",
     "output_type": "stream",
     "text": [
      "(32275, 8388610)\n",
      "(15899, 8388610)\n",
      "<class 'scipy.sparse.csr.csr_matrix'>\n",
      "<class 'scipy.sparse.csr.csr_matrix'>\n"
     ]
    }
   ],
   "source": [
    "print(X_train_trans_SVM.shape)\n",
    "print(X_val_trans_SVM.shape)\n",
    "print(type(X_train_trans_SVM))\n",
    "print(type(X_val_trans_SVM))"
   ]
  },
  {
   "cell_type": "code",
   "execution_count": 26,
   "metadata": {},
   "outputs": [
    {
     "name": "stdout",
     "output_type": "stream",
     "text": [
      "Training model using 300 features.\n",
      "Completed model fit and predictions using 300 in: 0.35 minutes.\n",
      "Median Absolute Error: 36.62756774257225 features.\n",
      "****************************************************************************************************\n",
      "Training model using 5000 features.\n",
      "Completed model fit and predictions using 5000 in: 1.7 minutes.\n",
      "Median Absolute Error: 43.801205708304565 features.\n",
      "****************************************************************************************************\n",
      "Training model using 10000 features.\n",
      "Completed model fit and predictions using 10000 in: 1.3333333333333333 minutes.\n",
      "Median Absolute Error: 44.158636579348894 features.\n",
      "****************************************************************************************************\n",
      "Training model using 20000 features.\n",
      "Completed model fit and predictions using 20000 in: 1.5333333333333334 minutes.\n",
      "Median Absolute Error: 97.38309075770397 features.\n",
      "****************************************************************************************************\n",
      "Training model using 50000 features.\n",
      "Completed model fit and predictions using 50000 in: 1.9833333333333334 minutes.\n",
      "Median Absolute Error: 67.29187465183122 features.\n",
      "****************************************************************************************************\n",
      "Training model using 100000 features.\n",
      "Completed model fit and predictions using 100000 in: 2.316666666666667 minutes.\n",
      "Median Absolute Error: 51.055580893596016 features.\n",
      "****************************************************************************************************\n",
      "Training model using 200000 features.\n",
      "Completed model fit and predictions using 200000 in: 1.9166666666666667 minutes.\n",
      "Median Absolute Error: 43.23913321540702 features.\n",
      "****************************************************************************************************\n",
      "Training model using 400000 features.\n",
      "Completed model fit and predictions using 400000 in: 1.3666666666666667 minutes.\n",
      "Median Absolute Error: 38.659599182429275 features.\n",
      "****************************************************************************************************\n",
      "Training model using 500000 features.\n",
      "Completed model fit and predictions using 500000 in: 1.9333333333333333 minutes.\n",
      "Median Absolute Error: 37.602272247762826 features.\n",
      "****************************************************************************************************\n",
      "Training model using 600000 features.\n",
      "Completed model fit and predictions using 600000 in: 2.316666666666667 minutes.\n",
      "Median Absolute Error: 36.602984898647975 features.\n",
      "****************************************************************************************************\n",
      "Training model using 700000 features.\n",
      "Completed model fit and predictions using 700000 in: 1.0666666666666667 minutes.\n",
      "Median Absolute Error: 36.24592207074146 features.\n",
      "****************************************************************************************************\n",
      "Training model using 800000 features.\n",
      "Completed model fit and predictions using 800000 in: 1.05 minutes.\n",
      "Median Absolute Error: 35.89707628989997 features.\n",
      "****************************************************************************************************\n",
      "Training model using 900000 features.\n",
      "Completed model fit and predictions using 900000 in: 1.0833333333333333 minutes.\n",
      "Median Absolute Error: 35.762624317018236 features.\n",
      "****************************************************************************************************\n",
      "Training model using 1000000 features.\n",
      "Completed model fit and predictions using 1000000 in: 1.3 minutes.\n",
      "Median Absolute Error: 35.42155349015158 features.\n",
      "****************************************************************************************************\n",
      "Training model using 1500000 features.\n",
      "Completed model fit and predictions using 1500000 in: 1.1166666666666667 minutes.\n",
      "Median Absolute Error: 34.418631019580644 features.\n",
      "****************************************************************************************************\n",
      "Training model using 2000000 features.\n",
      "Completed model fit and predictions using 2000000 in: 1.15 minutes.\n",
      "Median Absolute Error: 34.00534545771605 features.\n",
      "****************************************************************************************************\n",
      "Training model using 2500000 features.\n",
      "Completed model fit and predictions using 2500000 in: 1.1333333333333333 minutes.\n",
      "Median Absolute Error: 33.794626956392406 features.\n",
      "****************************************************************************************************\n",
      "Training model using 3000000 features.\n",
      "Completed model fit and predictions using 3000000 in: 1.1666666666666667 minutes.\n",
      "Median Absolute Error: 33.77594242812823 features.\n",
      "****************************************************************************************************\n",
      "Training model using 3500000 features.\n",
      "Completed model fit and predictions using 3500000 in: 1.15 minutes.\n",
      "Median Absolute Error: 33.922652407196196 features.\n",
      "****************************************************************************************************\n",
      "Training model using 4000000 features.\n",
      "Completed model fit and predictions using 4000000 in: 1.15 minutes.\n",
      "Median Absolute Error: 34.051351240523616 features.\n",
      "****************************************************************************************************\n",
      "Training model using 4500000 features.\n",
      "Completed model fit and predictions using 4500000 in: 1.1666666666666667 minutes.\n",
      "Median Absolute Error: 34.12414916989982 features.\n",
      "****************************************************************************************************\n",
      "Training model using 5000000 features.\n",
      "Completed model fit and predictions using 5000000 in: 1.1666666666666667 minutes.\n",
      "Median Absolute Error: 34.23434800004455 features.\n",
      "****************************************************************************************************\n",
      "Training model using 5500000 features.\n",
      "Completed model fit and predictions using 5500000 in: 1.1666666666666667 minutes.\n",
      "Median Absolute Error: 34.20725515535259 features.\n",
      "****************************************************************************************************\n",
      "Training model using 6000000 features.\n",
      "Completed model fit and predictions using 6000000 in: 1.2166666666666666 minutes.\n",
      "Median Absolute Error: 34.3045163629583 features.\n",
      "****************************************************************************************************\n",
      "Training model using 6500000 features.\n",
      "Completed model fit and predictions using 6500000 in: 1.1833333333333333 minutes.\n",
      "Median Absolute Error: 34.204829737986984 features.\n",
      "****************************************************************************************************\n",
      "Training model using 7000000 features.\n",
      "Completed model fit and predictions using 7000000 in: 1.2166666666666666 minutes.\n",
      "Median Absolute Error: 34.20880536563136 features.\n",
      "****************************************************************************************************\n",
      "Training model using 7500000 features.\n",
      "Completed model fit and predictions using 7500000 in: 1.2166666666666666 minutes.\n",
      "Median Absolute Error: 34.172140386704086 features.\n",
      "****************************************************************************************************\n",
      "Training model using 8000000 features.\n",
      "Completed model fit and predictions using 8000000 in: 1.2333333333333334 minutes.\n",
      "Median Absolute Error: 33.8793065660104 features.\n",
      "****************************************************************************************************\n",
      "Training model using 8300000 features.\n",
      "Completed model fit and predictions using 8300000 in: 1.2333333333333334 minutes.\n",
      "Median Absolute Error: 33.569346020990395 features.\n",
      "****************************************************************************************************\n"
     ]
    }
   ],
   "source": [
    "from sklearn.metrics import median_absolute_error\n",
    "import numpy as np\n",
    "filterwarnings(\"ignore\")\n",
    "\n",
    "n_features_list = [300,5000,10000,20000,50000,100000,200000,400000,\n",
    "                   500000,600000,700000,800000,900000,10**6,1500000,\n",
    "                   2000000,2500000,3000000,3500000,4000000,4500000,\n",
    "                   5000000,5500000,6000000,6500000,7000000,7500000,8000000,8300000]\n",
    "mae_list = []\n",
    "time_list = []\n",
    "\n",
    "for n_features in n_features_list:\n",
    "    print(\"Training model using \"+ str(n_features)+ \" features.\")\n",
    "    \n",
    "    # Testing feature selection based on training set\n",
    "    Xt = SelectKBest(f_regression,n_features).fit(X_train_trans_SVM,y_train).transform(X_train_trans_SVM)\n",
    "    Xv = SelectKBest(f_regression,n_features).fit(X_train_trans_SVM,y_train).transform(X_val_trans_SVM)\n",
    "\n",
    "    start = datetime.datetime.now()\n",
    "    \n",
    "    # Fixed model structure \n",
    "    from sklearn.svm import LinearSVR\n",
    "  \n",
    "    svr = LinearSVR()\n",
    "    svr.fit(Xt, np.log(y_train))\n",
    "    \n",
    "    preds = svr.predict(Xv)\n",
    "\n",
    "    # Out-of-box performance using validation set\n",
    "    mae = median_absolute_error(y_val,np.exp(preds))\n",
    "\n",
    "    end = datetime.datetime.now()\n",
    "    \n",
    "    mae_list.append(mae)\n",
    "    time_list.append((end-start).seconds/60)\n",
    "\n",
    "    print(\"Completed model fit and predictions using \"+ str(n_features) + \" in: \" + str((end-start).seconds/60) + \" minutes.\")\n",
    "    print(\"Median Absolute Error: \"+ str(mae) + \" features.\")\n",
    "    print(\"*\" * 100)\n"
   ]
  },
  {
   "cell_type": "code",
   "execution_count": 27,
   "metadata": {},
   "outputs": [
    {
     "data": {
      "image/png": "[encoded data removed]",
      "text/plain": [
       "<matplotlib.figure.Figure at 0x29ca16660b8>"
      ]
     },
     "metadata": {},
     "output_type": "display_data"
    }
   ],
   "source": [
    "import matplotlib.pyplot as plt\n",
    "plt.plot(n_features_list, mae_list, marker = \"o\", c = \"b\")\n",
    "plt.title(\"Performance of Networks and # of features\")\n",
    "plt.xlabel(\"Number of features\")\n",
    "plt.ylabel(\"Validation median absolute error\")\n",
    "plt.show()"
   ]
  },
  {
   "cell_type": "code",
   "execution_count": 28,
   "metadata": {},
   "outputs": [
    {
     "data": {
      "image/png": "[encoded data removed]",
      "text/plain": [
       "<matplotlib.figure.Figure at 0x29c80752400>"
      ]
     },
     "metadata": {},
     "output_type": "display_data"
    }
   ],
   "source": [
    "plt.plot(n_features_list, time_list, marker = \"o\", c = \"r\")\n",
    "plt.title(\"Computational cost of Networks and # of features\")\n",
    "plt.xlabel(\"Number of features\")\n",
    "plt.ylabel(\"Training time (min)\")\n",
    "plt.show()"
   ]
  },
  {
   "cell_type": "code",
   "execution_count": 30,
   "metadata": {},
   "outputs": [
    {
     "data": {
      "image/png": "[encoded data removed]",
      "text/plain": [
       "<matplotlib.figure.Figure at 0x29c806fd160>"
      ]
     },
     "metadata": {},
     "output_type": "display_data"
    }
   ],
   "source": [
    "# Bechmark model performance on validation set plotted\n",
    "def plot_performance(true, preds, model_name):\n",
    "    import matplotlib.pyplot as plt\n",
    "    import numpy as np\n",
    "    from sklearn.metrics import median_absolute_error \n",
    "    mae = median_absolute_error(true,np.exp(preds))\n",
    "    plt.scatter(x = np.exp(preds), y = true, c = 'blue', s = 3, alpha = 0.2)\n",
    "   # plt.xlim(-20,1200)\n",
    "   # plt.ylim(-20,1200)\n",
    "    plt.plot([0,1200],[0,1200], \"--k\")\n",
    "    plt.xlabel(\"Predictions\")\n",
    "    plt.ylabel(\"True targets\")\n",
    "    plt.text(0,1100, r\"MAE = %.2f\"%(mae))\n",
    "    plt.title(\"Predictive performance of \"+ model_name + \" model\" )\n",
    " \n",
    "plot_performance(true= y_val, preds= preds, model_name= \"network1\") "
   ]
  },
  {
   "cell_type": "markdown",
   "metadata": {},
   "source": [
    "We still don't see signs of overfitting, at the same time computational costs remain feasible. We will continue extracting features and increase tokenization to 5-grams."
   ]
  },
  {
   "cell_type": "code",
   "execution_count": 32,
   "metadata": {},
   "outputs": [],
   "source": [
    "from sklearn.pipeline import Pipeline, FeatureUnion\n",
    "from sklearn.preprocessing import MaxAbsScaler,FunctionTransformer, Imputer\n",
    "from sklearn.feature_selection import SelectKBest, f_regression\n",
    "from sklearn.feature_extraction.text import HashingVectorizer\n",
    "\n",
    "# First we build two utility functions to parse numeric and text data, \n",
    "# and wrap them using FunctionTransformer, so that they can be integrated into a sklearn pipeline:\n",
    "def text_columns(X_train):\n",
    "    return X_train.TEXT_FEATURES\n",
    "\n",
    "def numeric_columns(X_train):\n",
    "    numeric = ['APPLICANT_PRIOR_CLEARANCE_TO_DATE','DEVICENAME_PRIOR_CLEARANCE_TO_DATE']\n",
    "    temp = X_train[numeric]\n",
    "    return temp\n",
    "\n",
    "get_numeric_data = FunctionTransformer(func = numeric_columns, validate=False) \n",
    "get_text_data = FunctionTransformer(func = text_columns,validate=False) \n",
    "# Note how we avoid putting any arguments into text_columns and numeric_columns\n",
    "\n",
    "# We also need to create our regex token pattern to use in HashingVectorizer. \n",
    "TOKENS_ALPHANUMERIC = '[A-Za-z0-9]+(?=\\\\s+)'   \n",
    "#Note this regex will match either a whitespace or a punctuation to tokenize the string vector on these preferences  \n",
    "\n",
    "# We also need to redefine the default feature selection function for regression to properly place into our pipeline:\n",
    "def f_regression(X,Y):\n",
    "    import sklearn\n",
    "    return sklearn.feature_selection.f_regression(X,Y,center = False) # default is center = True\n",
    "\n",
    "\n",
    "pipeline510k_SVM1 = Pipeline([\n",
    "    \n",
    "    (\"union\",FeatureUnion( # Note that FeatureUnion() accepts list of tuples, the first half of each tuple is the name of the transformer\n",
    "        \n",
    "        transformer_list = [\n",
    "            \n",
    "            (\"numeric_subpipeline\", Pipeline([ # Note we have subpipeline branches inside the main pipeline\n",
    "                \n",
    "                (\"parser\",get_numeric_data), # Step1: parse the numeric data (note how we avoid () when using FunctionTransformer objects)\n",
    "                (\"imputer\",Imputer()), # Step2: impute missing values (we don't expect any)\n",
    "            \n",
    "            ])), # Branching point of the FeatureUnion\n",
    "            \n",
    "            (\"text_subpipeline\",Pipeline([\n",
    "            \n",
    "                (\"parser\",get_text_data), # Step1: parse the text data \n",
    "                (\"tokenizer\",HashingVectorizer(token_pattern= TOKENS_ALPHANUMERIC,n_features= 64*(2 ** 18),decode_error='ignore',\n",
    "                                             stop_words = \"english\",# We will remove English stop words before tokenization\n",
    "                                             ngram_range = (1,5), # We will tokenize up to 5 words only\n",
    "                                             non_negative=True, norm=None, binary=True  \n",
    "                                            )) # Step2: use HashingVectorizer for automated tokenization and feature extraction\n",
    "                                           \n",
    "                \n",
    "            ]))\n",
    "        ]\n",
    "    \n",
    "    )),# Branching point to the main pipeline: at this point all features are numeric\n",
    "    \n",
    "    (\"scaler\",MaxAbsScaler()) # Scale the features\n",
    "    \n",
    "])\n"
   ]
  },
  {
   "cell_type": "code",
   "execution_count": 33,
   "metadata": {},
   "outputs": [
    {
     "name": "stdout",
     "output_type": "stream",
     "text": [
      "Completed processing X_train in: 3.716666666666667 minutes.\n",
      "Completed processing X_val in: 1.4166666666666667 minutes.\n"
     ]
    }
   ],
   "source": [
    "import datetime\n",
    "from warnings import filterwarnings\n",
    "import numpy as np\n",
    "\n",
    "filterwarnings(\"ignore\")\n",
    "\n",
    "start = datetime.datetime.now()\n",
    "\n",
    "X_train_trans_SVM = pipeline510k_SVM1.fit(X_train, y_train).transform(X_train)\n",
    "\n",
    "end = datetime.datetime.now()\n",
    "print(\"Completed processing X_train in: \" + str((end-start).seconds/60) + \" minutes.\")\n",
    "\n",
    "start = datetime.datetime.now()\n",
    "\n",
    "X_val_trans_SVM = pipeline510k_SVM1.transform(X_val)\n",
    "\n",
    "end = datetime.datetime.now()\n",
    "print(\"Completed processing X_val in: \" + str((end-start).seconds/60) + \" minutes.\")"
   ]
  },
  {
   "cell_type": "code",
   "execution_count": 34,
   "metadata": {},
   "outputs": [
    {
     "name": "stdout",
     "output_type": "stream",
     "text": [
      "(32275, 16777218)\n",
      "(15899, 16777218)\n",
      "<class 'scipy.sparse.csr.csr_matrix'>\n",
      "<class 'scipy.sparse.csr.csr_matrix'>\n"
     ]
    }
   ],
   "source": [
    "print(X_train_trans_SVM.shape)\n",
    "print(X_val_trans_SVM.shape)\n",
    "print(type(X_train_trans_SVM)) \n",
    "print(type(X_val_trans_SVM))"
   ]
  },
  {
   "cell_type": "code",
   "execution_count": 36,
   "metadata": {},
   "outputs": [
    {
     "name": "stdout",
     "output_type": "stream",
     "text": [
      "Training model using 300 features.\n",
      "Completed model fit and predictions using 300 in: 0.48333333333333334 minutes.\n",
      "Median Absolute Error: 40.585257859438414 features.\n",
      "****************************************************************************************************\n",
      "Training model using 5000 features.\n",
      "Completed model fit and predictions using 5000 in: 1.35 minutes.\n",
      "Median Absolute Error: 48.187971478665304 features.\n",
      "****************************************************************************************************\n",
      "Training model using 10000 features.\n",
      "Completed model fit and predictions using 10000 in: 1.5 minutes.\n",
      "Median Absolute Error: 49.60548406396015 features.\n",
      "****************************************************************************************************\n",
      "Training model using 20000 features.\n",
      "Completed model fit and predictions using 20000 in: 1.7333333333333334 minutes.\n",
      "Median Absolute Error: 51.26029732701001 features.\n",
      "****************************************************************************************************\n",
      "Training model using 50000 features.\n",
      "Completed model fit and predictions using 50000 in: 2.3833333333333333 minutes.\n",
      "Median Absolute Error: 66.96597201072441 features.\n",
      "****************************************************************************************************\n",
      "Training model using 100000 features.\n",
      "Completed model fit and predictions using 100000 in: 2.8333333333333335 minutes.\n",
      "Median Absolute Error: 52.13316972252771 features.\n",
      "****************************************************************************************************\n",
      "Training model using 200000 features.\n",
      "Completed model fit and predictions using 200000 in: 2.95 minutes.\n",
      "Median Absolute Error: 44.155518775736496 features.\n",
      "****************************************************************************************************\n",
      "Training model using 400000 features.\n",
      "Completed model fit and predictions using 400000 in: 1.8833333333333333 minutes.\n",
      "Median Absolute Error: 39.82410009513616 features.\n",
      "****************************************************************************************************\n",
      "Training model using 500000 features.\n",
      "Completed model fit and predictions using 500000 in: 1.6833333333333333 minutes.\n",
      "Median Absolute Error: 38.97627065578007 features.\n",
      "****************************************************************************************************\n",
      "Training model using 6000000 features.\n",
      "Completed model fit and predictions using 6000000 in: 1.6666666666666667 minutes.\n",
      "Median Absolute Error: 33.21978460204669 features.\n",
      "****************************************************************************************************\n",
      "Training model using 6500000 features.\n",
      "Completed model fit and predictions using 6500000 in: 1.6333333333333333 minutes.\n",
      "Median Absolute Error: 33.319204945858814 features.\n",
      "****************************************************************************************************\n",
      "Training model using 7000000 features.\n",
      "Completed model fit and predictions using 7000000 in: 1.6 minutes.\n",
      "Median Absolute Error: 33.429693394459974 features.\n",
      "****************************************************************************************************\n",
      "Training model using 7500000 features.\n",
      "Completed model fit and predictions using 7500000 in: 1.6333333333333333 minutes.\n",
      "Median Absolute Error: 33.44660902181732 features.\n",
      "****************************************************************************************************\n",
      "Training model using 8000000 features.\n",
      "Completed model fit and predictions using 8000000 in: 1.6166666666666667 minutes.\n",
      "Median Absolute Error: 33.555763801592164 features.\n",
      "****************************************************************************************************\n",
      "Training model using 8500000 features.\n",
      "Completed model fit and predictions using 8500000 in: 1.6333333333333333 minutes.\n",
      "Median Absolute Error: 33.7140354581098 features.\n",
      "****************************************************************************************************\n",
      "Training model using 9000000 features.\n",
      "Completed model fit and predictions using 9000000 in: 1.6166666666666667 minutes.\n",
      "Median Absolute Error: 33.863242285116854 features.\n",
      "****************************************************************************************************\n",
      "Training model using 9500000 features.\n",
      "Completed model fit and predictions using 9500000 in: 1.65 minutes.\n",
      "Median Absolute Error: 33.84721840673447 features.\n",
      "****************************************************************************************************\n",
      "Training model using 10000000 features.\n",
      "Completed model fit and predictions using 10000000 in: 1.65 minutes.\n",
      "Median Absolute Error: 33.8627711577339 features.\n",
      "****************************************************************************************************\n",
      "Training model using 10500000 features.\n",
      "Completed model fit and predictions using 10500000 in: 1.6666666666666667 minutes.\n",
      "Median Absolute Error: 33.98398096299982 features.\n",
      "****************************************************************************************************\n",
      "Training model using 11000000 features.\n",
      "Completed model fit and predictions using 11000000 in: 1.6833333333333333 minutes.\n",
      "Median Absolute Error: 34.13213756828203 features.\n",
      "****************************************************************************************************\n",
      "Training model using 11500000 features.\n",
      "Completed model fit and predictions using 11500000 in: 1.6666666666666667 minutes.\n",
      "Median Absolute Error: 34.144447260206334 features.\n",
      "****************************************************************************************************\n",
      "Training model using 12000000 features.\n",
      "Completed model fit and predictions using 12000000 in: 1.65 minutes.\n",
      "Median Absolute Error: 34.292746054149035 features.\n",
      "****************************************************************************************************\n",
      "Training model using 12500000 features.\n",
      "Completed model fit and predictions using 12500000 in: 1.6666666666666667 minutes.\n",
      "Median Absolute Error: 34.282098354681466 features.\n",
      "****************************************************************************************************\n",
      "Training model using 13000000 features.\n",
      "Completed model fit and predictions using 13000000 in: 1.6833333333333333 minutes.\n",
      "Median Absolute Error: 34.2729311585168 features.\n",
      "****************************************************************************************************\n",
      "Training model using 14000000 features.\n",
      "Completed model fit and predictions using 14000000 in: 1.6833333333333333 minutes.\n",
      "Median Absolute Error: 34.18434500696503 features.\n",
      "****************************************************************************************************\n",
      "Training model using 15000000 features.\n",
      "Completed model fit and predictions using 15000000 in: 1.7 minutes.\n",
      "Median Absolute Error: 34.05667494201428 features.\n",
      "****************************************************************************************************\n",
      "Training model using 16000000 features.\n",
      "Completed model fit and predictions using 16000000 in: 1.7166666666666666 minutes.\n",
      "Median Absolute Error: 33.73742099587055 features.\n",
      "****************************************************************************************************\n"
     ]
    }
   ],
   "source": [
    "from sklearn.metrics import median_absolute_error\n",
    "import numpy as np\n",
    "filterwarnings(\"ignore\")\n",
    "\n",
    "n_features_list = [300,5000,10000,20000,50000,100000,200000,400000,\n",
    "                   500000,6000000,6500000,7000000,7500000,8000000,8500000,\n",
    "                  9000000,9500000,10000000,10500000,11000000,11500000,\n",
    "                  12000000,12500000,13000000,14000000,15000000,16000000]\n",
    "mae_list = []\n",
    "time_list = []\n",
    "\n",
    "for n_features in n_features_list:\n",
    "    print(\"Training model using \"+ str(n_features)+ \" features.\")\n",
    "    \n",
    "    # Testing feature selection based on training set\n",
    "    Xt = SelectKBest(f_regression,n_features).fit(X_train_trans_SVM,y_train).transform(X_train_trans_SVM)\n",
    "    Xv = SelectKBest(f_regression,n_features).fit(X_train_trans_SVM,y_train).transform(X_val_trans_SVM)\n",
    "\n",
    "    start = datetime.datetime.now()\n",
    "    \n",
    "    # Fixed model structure \n",
    "    from sklearn.svm import LinearSVR\n",
    "  \n",
    "    svr = LinearSVR()\n",
    "    svr.fit(Xt, np.log(y_train))\n",
    "    \n",
    "    preds = svr.predict(Xv)\n",
    "\n",
    "    # Out-of-box performance using validation set\n",
    "    mae = median_absolute_error(y_val,np.exp(preds))\n",
    "\n",
    "    end = datetime.datetime.now()\n",
    "    \n",
    "    mae_list.append(mae)\n",
    "    time_list.append((end-start).seconds/60)\n",
    "\n",
    "    print(\"Completed model fit and predictions using \"+ str(n_features) + \" in: \" + str((end-start).seconds/60) + \" minutes.\")\n",
    "    print(\"Median Absolute Error: \"+ str(mae) + \" features.\")\n",
    "    print(\"*\" * 100)\n"
   ]
  },
  {
   "cell_type": "code",
   "execution_count": 37,
   "metadata": {},
   "outputs": [
    {
     "data": {
      "image/png": "[encoded data removed]",
      "text/plain": [
       "<matplotlib.figure.Figure at 0x29c803887f0>"
      ]
     },
     "metadata": {},
     "output_type": "display_data"
    }
   ],
   "source": [
    "import matplotlib.pyplot as plt\n",
    "plt.plot(n_features_list, mae_list, marker = \"o\", c = \"b\")\n",
    "plt.title(\"Performance of Networks and # of features\")\n",
    "plt.xlabel(\"Number of features\")\n",
    "plt.ylabel(\"Validation median absolute error\")\n",
    "plt.show()"
   ]
  },
  {
   "cell_type": "code",
   "execution_count": 38,
   "metadata": {},
   "outputs": [
    {
     "data": {
      "image/png": "[encoded data removed]",
      "text/plain": [
       "<matplotlib.figure.Figure at 0x29c804e7f60>"
      ]
     },
     "metadata": {},
     "output_type": "display_data"
    }
   ],
   "source": [
    "plt.plot(n_features_list, time_list, marker = \"o\", c = \"r\")\n",
    "plt.title(\"Computational cost of Networks and # of features\")\n",
    "plt.xlabel(\"Number of features\")\n",
    "plt.ylabel(\"Training time (min)\")\n",
    "plt.show()"
   ]
  },
  {
   "cell_type": "code",
   "execution_count": 39,
   "metadata": {},
   "outputs": [
    {
     "data": {
      "image/png": "[encoded data removed]",
      "text/plain": [
       "<matplotlib.figure.Figure at 0x29c804cff60>"
      ]
     },
     "metadata": {},
     "output_type": "display_data"
    }
   ],
   "source": [
    "# Bechmark model performance on validation set plotted\n",
    "def plot_performance(true, preds, model_name):\n",
    "    import matplotlib.pyplot as plt\n",
    "    import numpy as np\n",
    "    from sklearn.metrics import median_absolute_error \n",
    "    mae = median_absolute_error(true,np.exp(preds))\n",
    "    plt.scatter(x = np.exp(preds), y = true, c = 'blue', s = 3, alpha = 0.2)\n",
    "   # plt.xlim(-20,1200)\n",
    "   # plt.ylim(-20,1200)\n",
    "    plt.plot([0,1200],[0,1200], \"--k\")\n",
    "    plt.xlabel(\"Predictions\")\n",
    "    plt.ylabel(\"True targets\")\n",
    "    plt.text(0,1100, r\"MAE = %.2f\"%(mae))\n",
    "    plt.title(\"Predictive performance of \"+ model_name + \" model\" )\n",
    " \n",
    "plot_performance(true= y_val, preds= preds, model_name= \"network1\") "
   ]
  },
  {
   "cell_type": "markdown",
   "metadata": {},
   "source": [
    "#### Pipeline lockdown\n",
    "\n",
    "Based on these experiments, we will use 6 million best features selected after tokenization of 5-grams. We will train the pipeline, process the datasets and pursue hyperparameter optimization. "
   ]
  },
  {
   "cell_type": "code",
   "execution_count": 40,
   "metadata": {},
   "outputs": [],
   "source": [
    "from sklearn.pipeline import Pipeline, FeatureUnion\n",
    "from sklearn.preprocessing import MaxAbsScaler,FunctionTransformer, Imputer\n",
    "from sklearn.feature_selection import SelectKBest, f_regression\n",
    "from sklearn.feature_extraction.text import HashingVectorizer\n",
    "\n",
    "# First we build two utility functions to parse numeric and text data, \n",
    "# and wrap them using FunctionTransformer, so that they can be integrated into a sklearn pipeline:\n",
    "def text_columns(X_train):\n",
    "    return X_train.TEXT_FEATURES\n",
    "\n",
    "def numeric_columns(X_train):\n",
    "    numeric = ['APPLICANT_PRIOR_CLEARANCE_TO_DATE','DEVICENAME_PRIOR_CLEARANCE_TO_DATE']\n",
    "    temp = X_train[numeric]\n",
    "    return temp\n",
    "\n",
    "get_numeric_data = FunctionTransformer(func = numeric_columns, validate=False) \n",
    "get_text_data = FunctionTransformer(func = text_columns,validate=False) \n",
    "# Note how we avoid putting any arguments into text_columns and numeric_columns\n",
    "\n",
    "# We also need to create our regex token pattern to use in HashingVectorizer. \n",
    "TOKENS_ALPHANUMERIC = '[A-Za-z0-9]+(?=\\\\s+)'   \n",
    "#Note this regex will match either a whitespace or a punctuation to tokenize the string vector on these preferences  \n",
    "\n",
    "# We also need to redefine the default feature selection function for regression to properly place into our pipeline:\n",
    "def f_regression(X,Y):\n",
    "    import sklearn\n",
    "    return sklearn.feature_selection.f_regression(X,Y,center = False) # default is center = True\n",
    "\n",
    "\n",
    "pipeline510k_SVM1 = Pipeline([\n",
    "    \n",
    "    (\"union\",FeatureUnion( # Note that FeatureUnion() accepts list of tuples, the first half of each tuple is the name of the transformer\n",
    "        \n",
    "        transformer_list = [\n",
    "            \n",
    "            (\"numeric_subpipeline\", Pipeline([ # Note we have subpipeline branches inside the main pipeline\n",
    "                \n",
    "                (\"parser\",get_numeric_data), # Step1: parse the numeric data (note how we avoid () when using FunctionTransformer objects)\n",
    "                (\"imputer\",Imputer()), # Step2: impute missing values (we don't expect any)\n",
    "            \n",
    "            ])), # Branching point of the FeatureUnion\n",
    "            \n",
    "            (\"text_subpipeline\",Pipeline([\n",
    "            \n",
    "                (\"parser\",get_text_data), # Step1: parse the text data \n",
    "                (\"tokenizer\",HashingVectorizer(token_pattern= TOKENS_ALPHANUMERIC,n_features= 64*(2 ** 18),decode_error='ignore',\n",
    "                                             stop_words = \"english\",# We will remove English stop words before tokenization\n",
    "                                             ngram_range = (1,5), # We will tokenize up to 5 words only\n",
    "                                             non_negative=True, norm=None, binary=True  \n",
    "                                            )) # Step2: use HashingVectorizer for automated tokenization and feature extraction\n",
    "                                           \n",
    "                \n",
    "            ]))\n",
    "        ]\n",
    "    \n",
    "    )),# Branching point to the main pipeline: at this point all features are numeric\n",
    "    \n",
    "    (\"scaler\",MaxAbsScaler()), # Scale the features\n",
    "    (\"dim_red\", SelectKBest(f_regression,6000000))\n",
    "])\n"
   ]
  },
  {
   "cell_type": "code",
   "execution_count": null,
   "metadata": {},
   "outputs": [],
   "source": [
    "import datetime\n",
    "from warnings import filterwarnings\n",
    "import numpy as np\n",
    "\n",
    "filterwarnings(\"ignore\")\n",
    "\n",
    "start = datetime.datetime.now()\n",
    "\n",
    "X_train_trans_SVM = pipeline510k_SVM1.fit(X_train, y_train).transform(X_train)\n",
    "\n",
    "end = datetime.datetime.now()\n",
    "print(\"Completed processing X_train in: \" + str((end-start).seconds/60) + \" minutes.\")\n",
    "\n",
    "start = datetime.datetime.now()\n",
    "\n",
    "X_val_trans_SVM = pipeline510k_SVM1.transform(X_val)\n",
    "\n",
    "end = datetime.datetime.now()\n",
    "print(\"Completed processing X_val in: \" + str((end-start).seconds/60) + \" minutes.\")"
   ]
  },
  {
   "cell_type": "code",
   "execution_count": null,
   "metadata": {},
   "outputs": [],
   "source": [
    "print(X_train_trans_SVM.shape)\n",
    "print(X_val_trans_SVM.shape)\n",
    "print(type(X_train_trans_SVM)) \n",
    "print(type(X_val_trans_SVM))"
   ]
  },
  {
   "cell_type": "markdown",
   "metadata": {},
   "source": [
    "#### Bayesian Optimization"
   ]
  },
  {
   "cell_type": "code",
   "execution_count": null,
   "metadata": {},
   "outputs": [],
   "source": [
    "# We start by defining the score we want to be maximized using Bayesian Optimization\n",
    "# Note that the parameters we will optimize are called as generic arguments\n",
    "\n",
    "seed = 112 # Random seed\n",
    "\n",
    "def svr_score(C):\n",
    "    from sklearn.metrics import median_absolute_error\n",
    "    import numpy as np\n",
    "    \n",
    "    svr = LinearSVR(C = C)\n",
    "    svr.fit(X_train_trans_SVM, np.log(y_train))\n",
    "    \n",
    "    preds = svr.predict(Xv)\n",
    "\n",
    "    # Out-of-box performance using validation set\n",
    "    mae = median_absolute_error(y_val,np.exp(preds))\n",
    "    \n",
    "    # return the - mae to be maximized\n",
    "    return - mae "
   ]
  },
  {
   "cell_type": "code",
   "execution_count": null,
   "metadata": {},
   "outputs": [],
   "source": [
    "import warnings\n",
    "import lightgbm as lgb\n",
    "warnings.filterwarnings('ignore')\n",
    "\n",
    "from bayes_opt import BayesianOptimization\n",
    "\n",
    "# alpha is a parameter for the gaussian process\n",
    "# Note that this is itself a hyperparemter that can be optimized.\n",
    "gp_params = {\"alpha\": 1e-10}\n",
    "\n",
    "# We create the BayesianOptimization objects using the functions that utilize\n",
    "# the respective classifiers and return cross-validated scores to be optimized.\n",
    "\n",
    "seed = 112 # Random seed\n",
    "\n",
    "# We create the bayes_opt object and pass the function to be maximized\n",
    "# together with the parameters names and their bounds.\n",
    "# Note the syntax of bayes_opt package: bounds of hyperparameters are passed as two-tuples\n",
    "\n",
    "hyperparameter_space = {\n",
    "    'C':(0.01,100)\n",
    "}\n",
    "\n",
    "svrBO = BayesianOptimization(f = svr_score, \n",
    "                             pbounds =  hyperparameter_space,\n",
    "                             random_state = seed,\n",
    "                             verbose = 10)\n",
    "\n",
    "# Finally we call .maximize method of the optimizer with the appropriate arguments\n",
    "# kappa is a measure of 'aggressiveness' of the bayesian optimization process\n",
    "# The algorithm will randomly choose 3 points to establish a 'prior', then will perform \n",
    "# interations to maximize the value of estimator function\n",
    "svrBO.maximize(init_points=10,n_iter=10,acq='ucb', kappa= 3, **gp_params)"
   ]
  },
  {
   "cell_type": "code",
   "execution_count": null,
   "metadata": {},
   "outputs": [],
   "source": []
  }
 ],
 "metadata": {
  "kernelspec": {
   "display_name": "Python 3",
   "language": "python",
   "name": "python3"
  },
  "language_info": {
   "codemirror_mode": {
    "name": "ipython",
    "version": 3
   },
   "file_extension": ".py",
   "mimetype": "text/x-python",
   "name": "python",
   "nbconvert_exporter": "python",
   "pygments_lexer": "ipython3",
   "version": "3.6.4"
  }
 },
 "nbformat": 4,
 "nbformat_minor": 2
}
