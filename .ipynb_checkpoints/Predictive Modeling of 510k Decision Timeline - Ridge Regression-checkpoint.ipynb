{
 "cells": [
  {
   "cell_type": "markdown",
   "metadata": {},
   "source": [
    "## Ridge Regression\n",
    "\n",
    "We will use Ridge Regression to understand how far we can go using a regularized linear model. We will customize our pipeline such that initially we won't perform final dimension reduction or interaction terms. Later we will test whether adding these would significantly improve model performance. \n",
    "\n",
    "### Ridge Regression without interaction terms\n",
    "\n",
    "#### Feature Extraction Pipeline\n",
    "\n",
    "We anticipate that this would be the simplest pipeline we can start with. Basically, we will use all features after tokenization and simply rely on the regularization capacity of the Ridge Regression. "
   ]
  },
  {
   "cell_type": "code",
   "execution_count": 1,
   "metadata": {},
   "outputs": [],
   "source": [
    "# Save the work into a dedicated workspace \"ridge\"\n",
    "disk_ridge = \"ridge\"\n",
    "import os\n",
    "if not os.path.exists(disk_ridge):\n",
    "    os.makedirs(disk_ridge) "
   ]
  },
  {
   "cell_type": "code",
   "execution_count": 12,
   "metadata": {},
   "outputs": [],
   "source": [
    "from sklearn.pipeline import Pipeline, FeatureUnion\n",
    "from sklearn.preprocessing import MaxAbsScaler,FunctionTransformer, Imputer\n",
    "from sklearn.feature_selection import SelectKBest, f_regression\n",
    "from sklearn.feature_extraction.text import HashingVectorizer\n",
    "\n",
    "# First we build two utility functions to parse numeric and text data, \n",
    "# and wrap them using FunctionTransformer, so that they can be integrated into a sklearn pipeline:\n",
    "def text_columns(X_train):\n",
    "    return X_train.TEXT_FEATURES\n",
    "\n",
    "def numeric_columns(X_train):\n",
    "    numeric = ['APPLICANT_PRIOR_CLEARANCE_TO_DATE','DEVICENAME_PRIOR_CLEARANCE_TO_DATE']\n",
    "    temp = X_train[numeric]\n",
    "    return temp\n",
    "\n",
    "get_numeric_data = FunctionTransformer(func = numeric_columns, validate=False) \n",
    "get_text_data = FunctionTransformer(func = text_columns,validate=False) \n",
    "# Note how we avoid putting any arguments into text_columns and numeric_columns\n",
    "\n",
    "# We also need to create our regex token pattern to use in HashingVectorizer. \n",
    "TOKENS_ALPHANUMERIC = '[A-Za-z0-9]+(?=\\\\s+)'   \n",
    "#Note this regex will match either a whitespace or a punctuation to tokenize the string vector on these preferences  \n",
    "\n",
    "# We also need to redefine the default feature selection function for regression to properly place into our pipeline:\n",
    "def f_regression(X,Y):\n",
    "    import sklearn\n",
    "    return sklearn.feature_selection.f_regression(X,Y,center = False) # default is center = True\n",
    "\n",
    "\n",
    "pipeline510k_Ridge1 = Pipeline([\n",
    "    \n",
    "    (\"union\",FeatureUnion( # Note that FeatureUnion() accepts list of tuples, the first half of each tuple is the name of the transformer\n",
    "        \n",
    "        transformer_list = [\n",
    "            \n",
    "            (\"numeric_subpipeline\", Pipeline([ # Note we have subpipeline branches inside the main pipeline\n",
    "                \n",
    "                (\"parser\",get_numeric_data), # Step1: parse the numeric data (note how we avoid () when using FunctionTransformer objects)\n",
    "                (\"imputer\",Imputer()), # Step2: impute missing values (we don't expect any)\n",
    "            \n",
    "            ])), # Branching point of the FeatureUnion\n",
    "            \n",
    "            (\"text_subpipeline\",Pipeline([\n",
    "            \n",
    "                (\"parser\",get_text_data), # Step1: parse the text data \n",
    "                (\"tokenizer\",HashingVectorizer(token_pattern= TOKENS_ALPHANUMERIC,n_features= 2 ** 18,decode_error='ignore',\n",
    "                                             stop_words = \"english\",# We will remove English stop words before tokenization\n",
    "                                             ngram_range = (1,1), # We will tokenize to single words only\n",
    "                                             non_negative=True, norm=None, binary=True  \n",
    "                                            )) # Step2: use HashingVectorizer for automated tokenization and feature extraction\n",
    "                                           \n",
    "                \n",
    "            ]))\n",
    "        ]\n",
    "    \n",
    "    )),# Branching point to the main pipeline: at this point all features are numeric\n",
    "    \n",
    "    (\"scaler\",MaxAbsScaler()) # Scale the features\n",
    "   \n",
    "])\n"
   ]
  },
  {
   "cell_type": "markdown",
   "metadata": {},
   "source": [
    "#### Build the feature extraction pipeline using training set and transform both data sets"
   ]
  },
  {
   "cell_type": "code",
   "execution_count": 2,
   "metadata": {},
   "outputs": [],
   "source": [
    "import pickle\n",
    "# Load Training and Validation sets\n",
    "disk = \"D:\\Data_science\\GitHub\\Predictive-Modeling-510k-decision-time\"\n",
    "# Validation set \n",
    "with open(disk+\"\\X_val.pkl\",\"rb\") as f:\n",
    "    X_val=pickle.load(f)\n",
    "\n",
    "with open(disk+\"\\y_val.pkl\",\"rb\") as f:\n",
    "    y_val=pickle.load(f)\n",
    "    \n",
    "# Training set (Locked down)\n",
    "with open(disk+\"\\X_train.pkl\",\"rb\") as f:\n",
    "    X_train=pickle.load(f)\n",
    "\n",
    "with open(disk+\"\\y_train.pkl\",\"rb\") as f:\n",
    "    y_train=pickle.load(f)    "
   ]
  },
  {
   "cell_type": "code",
   "execution_count": 13,
   "metadata": {},
   "outputs": [
    {
     "name": "stdout",
     "output_type": "stream",
     "text": [
      "Completed processing X_train in: 0.75 minutes.\n",
      "Completed processing X_val in: 0.16666666666666666 minutes.\n"
     ]
    }
   ],
   "source": [
    "import datetime\n",
    "from warnings import filterwarnings\n",
    "\n",
    "filterwarnings(\"ignore\")\n",
    "\n",
    "start = datetime.datetime.now()\n",
    "\n",
    "X_train_trans_ridge = pipeline510k_Ridge1.fit(X_train, y_train).transform(X_train)\n",
    "\n",
    "end = datetime.datetime.now()\n",
    "print(\"Completed processing X_train in: \" + str((end-start).seconds/60) + \" minutes.\")\n",
    "\n",
    "start = datetime.datetime.now()\n",
    "\n",
    "X_val_trans_ridge = pipeline510k_Ridge1.transform(X_val)\n",
    "\n",
    "end = datetime.datetime.now()\n",
    "print(\"Completed processing X_val in: \" + str((end-start).seconds/60) + \" minutes.\")"
   ]
  },
  {
   "cell_type": "markdown",
   "metadata": {},
   "source": [
    "#### Training untuned Ridge model"
   ]
  },
  {
   "cell_type": "code",
   "execution_count": 86,
   "metadata": {},
   "outputs": [
    {
     "name": "stdout",
     "output_type": "stream",
     "text": [
      "Median Absolute Error:  52.68323113149336\n",
      "Completed model fit and predictions in: 0.6166666666666667 minutes.\n"
     ]
    }
   ],
   "source": [
    "from sklearn.linear_model import Ridge\n",
    "from sklearn.metrics import median_absolute_error\n",
    "\n",
    "start = datetime.datetime.now()\n",
    "\n",
    "ridge1 = Ridge(alpha=0.7)\n",
    "\n",
    "ridge1.fit(X_train_trans_ridge, y_train)\n",
    "preds = ridge1.predict(X_val_trans_ridge)\n",
    "\n",
    "mae = median_absolute_error(y_val,preds)\n",
    "\n",
    "end = datetime.datetime.now()\n",
    "print(\"Median Absolute Error: \", str(mae))\n",
    "print(\"Completed model fit and predictions in: \" + str((end-start).seconds/60) + \" minutes.\")"
   ]
  },
  {
   "cell_type": "code",
   "execution_count": 87,
   "metadata": {},
   "outputs": [
    {
     "data": {
      "text/plain": [
       "Text(0,1300,'MAE = 52.68')"
      ]
     },
     "execution_count": 87,
     "metadata": {},
     "output_type": "execute_result"
    },
    {
     "data": {
      "image/png": "[encoded data removed]",
      "text/plain": [
       "<matplotlib.figure.Figure at 0x2d028b38710>"
      ]
     },
     "metadata": {},
     "output_type": "display_data"
    }
   ],
   "source": [
    "import matplotlib.pyplot as plt\n",
    "plt.scatter(x = preds, y = y_val, alpha = 0.1, c = \"blue\", s = 5)\n",
    "plt.plot([0,1500],[0,1500], \"--k\")\n",
    "plt.ylim(-250,1500)\n",
    "plt.xlim(-250,1500)\n",
    "plt.ylabel(\"True target\")\n",
    "plt.xlabel(\"Predictions\")\n",
    "plt.text(0,1300, r\"MAE = %.2f\" % (mae))"
   ]
  },
  {
   "cell_type": "code",
   "execution_count": 88,
   "metadata": {},
   "outputs": [
    {
     "data": {
      "image/png": "[encoded data removed]",
      "text/plain": [
       "<matplotlib.figure.Figure at 0x2d0210d9eb8>"
      ]
     },
     "metadata": {},
     "output_type": "display_data"
    }
   ],
   "source": [
    "f, (ax0, ax1) = plt.subplots(1,2, sharey= True, sharex= True)\n",
    "ax0.hist(preds,color=\"blue\",bins= 500)\n",
    "ax0.set_title(\"Distribution of predictions\")\n",
    "ax1.hist(y_val,color=\"blue\",bins= 500)\n",
    "ax1.set_title(\"Distribution of True target\")\n",
    "f.tight_layout(rect = [0.05, 0.05, 0.99, 0.99])"
   ]
  },
  {
   "cell_type": "markdown",
   "metadata": {},
   "source": [
    "Let's try to see the impact of transforming the target during model training."
   ]
  },
  {
   "cell_type": "code",
   "execution_count": 89,
   "metadata": {},
   "outputs": [
    {
     "data": {
      "image/png": "[encoded data removed]",
      "text/plain": [
       "<matplotlib.figure.Figure at 0x2d028c73ac8>"
      ]
     },
     "metadata": {},
     "output_type": "display_data"
    }
   ],
   "source": [
    "import numpy as np\n",
    "y_train_log = np.log(y_train)\n",
    "\n",
    "f, (ax0, ax1) = plt.subplots(1,2, sharey= True)\n",
    "ax0.hist(y_train,color=\"blue\",bins= 500)\n",
    "ax0.set_title(\"Distribution of target\")\n",
    "ax1.hist(y_train_log,color=\"blue\",bins= 500)\n",
    "ax1.set_title(\"Distribution of transformed target\")\n",
    "f.tight_layout(rect = [0.05, 0.05, 0.99, 0.99])"
   ]
  },
  {
   "cell_type": "code",
   "execution_count": 98,
   "metadata": {},
   "outputs": [
    {
     "data": {
      "image/png": "[encoded data removed]",
      "text/plain": [
       "<matplotlib.figure.Figure at 0x2d022a4ccc0>"
      ]
     },
     "metadata": {},
     "output_type": "display_data"
    }
   ],
   "source": [
    "# Let's test the impact of log transforming the targets before regression\n",
    "\n",
    "ridge1_trans = Ridge(alpha=0.7)\n",
    "# We fit the model using log transformed version of y_train\n",
    "ridge1_trans.fit(X_train_trans_ridge, np.log(y_train))\n",
    "preds_trans = ridge1_trans.predict(X_val_trans_ridge)\n",
    "# When calculating the error, we convert predictions to original space using exp\n",
    "mae_trans = median_absolute_error(y_val, np.exp(preds_trans) )\n",
    "\n",
    "f, (ax0,ax1) = plt.subplots(1,2,sharey = True)\n",
    "\n",
    "ax0.scatter(x = preds, y = y_val, alpha = 0.1, c = \"blue\", s = 5)\n",
    "ax0.plot([0,1500],[0,1500], \"--k\")\n",
    "ax0.set_ylabel(\"True target\")\n",
    "ax0.set_xlabel(\"Predictions\")\n",
    "ax0.text(0,1300, r\"MAE = %.2f\" % (mae))\n",
    "ax0.set_xlim(-250,1500)\n",
    "ax0.set_title(\"Ridge regression \\n without target transformation\")\n",
    "\n",
    "ax1.scatter(x = np.exp(preds_trans), y = y_val, alpha = 0.1, c = \"blue\", s = 5)\n",
    "ax1.plot([0,1500],[0,1500], \"--k\")\n",
    "ax1.set_ylabel(\"True target\")\n",
    "ax1.set_xlabel(\"Predictions\")\n",
    "ax1.text(0,1300, r\"MAE = %.2f\" % (mae_trans))\n",
    "ax1.set_xlim(-250,1500)\n",
    "ax1.set_title(\"Ridge regression \\n with target transformation\")\n",
    "\n",
    "f.tight_layout(rect=[0.01, 0.01, 0.99, 0.99])"
   ]
  },
  {
   "cell_type": "markdown",
   "metadata": {},
   "source": [
    "Therefore, we concluded that indeed log transforming the target when training the model helps to improve predictive performance. Our benchmark median absolute error from this first Ridge model is 37.4. We will now see if we can reduce this error by performing hyperparameter optimization. \n",
    "\n",
    "#### Hyperparameter Optimization for Ridge Model\n",
    "\n",
    "##### GridsearchCV\n",
    "\n",
    "We noted that Ridge model trained fairly fast. Let's try GridSearchCV across a space of regularization terms to see if we can come up with a stable CV."
   ]
  },
  {
   "cell_type": "code",
   "execution_count": 7,
   "metadata": {},
   "outputs": [
    {
     "name": "stdout",
     "output_type": "stream",
     "text": [
      "Fitting 3 folds for each of 10 candidates, totalling 30 fits\n"
     ]
    },
    {
     "name": "stderr",
     "output_type": "stream",
     "text": [
      "[Parallel(n_jobs=6)]: Done   1 tasks      | elapsed:   49.0s\n",
      "[Parallel(n_jobs=6)]: Done   6 tasks      | elapsed:  1.0min\n",
      "[Parallel(n_jobs=6)]: Done  13 tasks      | elapsed:  2.4min\n",
      "[Parallel(n_jobs=6)]: Done  23 out of  30 | elapsed:  3.4min remaining:  1.0min\n",
      "[Parallel(n_jobs=6)]: Done  27 out of  30 | elapsed:  4.1min remaining:   27.0s\n",
      "[Parallel(n_jobs=6)]: Done  30 out of  30 | elapsed:  4.1min finished\n"
     ]
    },
    {
     "data": {
      "text/plain": [
       "GridSearchCV(cv=3, error_score='raise',\n",
       "       estimator=Ridge(alpha=1.0, copy_X=True, fit_intercept=True, max_iter=None,\n",
       "   normalize=False, random_state=None, solver='auto', tol=0.001),\n",
       "       fit_params=None, iid=True, n_jobs=6,\n",
       "       param_grid={'alpha': array([ 0.01,  1.12,  2.23,  3.34,  4.45,  5.56,  6.67,  7.78,  8.89,\n",
       "       10.  ])},\n",
       "       pre_dispatch='2*n_jobs', refit=True, return_train_score='warn',\n",
       "       scoring='neg_median_absolute_error', verbose=10)"
      ]
     },
     "execution_count": 7,
     "metadata": {},
     "output_type": "execute_result"
    }
   ],
   "source": [
    "import numpy as np\n",
    "from sklearn.linear_model import Ridge\n",
    "from sklearn.model_selection import GridSearchCV\n",
    "\n",
    "param_grid = {\n",
    "    'alpha' : np.linspace(start = 0.01,stop = 10, num = 10)\n",
    "}\n",
    "\n",
    "# We have 8 CPU cores, we will use 6 for this task\n",
    "RidgeSearch1 = GridSearchCV(estimator= Ridge(), \n",
    "                            param_grid= param_grid,\n",
    "                            n_jobs = 6,\n",
    "                            cv = 3,\n",
    "                            verbose = 10, scoring= 'neg_median_absolute_error'\n",
    "                            )\n",
    "RidgeSearch1.fit(X_train_trans_ridge, np.log(y_train))"
   ]
  },
  {
   "cell_type": "code",
   "execution_count": 11,
   "metadata": {},
   "outputs": [
    {
     "data": {
      "text/plain": [
       "Ridge(alpha=8.89, copy_X=True, fit_intercept=True, max_iter=None,\n",
       "   normalize=False, random_state=None, solver='auto', tol=0.001)"
      ]
     },
     "execution_count": 11,
     "metadata": {},
     "output_type": "execute_result"
    }
   ],
   "source": [
    "RidgeSearch1.best_estimator_"
   ]
  },
  {
   "cell_type": "code",
   "execution_count": 10,
   "metadata": {},
   "outputs": [
    {
     "data": {
      "text/plain": [
       "36.76935645716901"
      ]
     },
     "execution_count": 10,
     "metadata": {},
     "output_type": "execute_result"
    }
   ],
   "source": [
    "from sklearn.metrics import median_absolute_error\n",
    "# Let's see the validation MAE (in original target scale) from the best estimator\n",
    "preds = RidgeSearch1.best_estimator_.predict(X_val_trans_ridge)\n",
    "median_absolute_error(y_val,np.exp(preds))"
   ]
  },
  {
   "cell_type": "markdown",
   "metadata": {},
   "source": [
    "It looks like when we increase alpha to 8.89, model performance has improved. Let's try another grid search in a higher alpha space to see if we can further reduce the error."
   ]
  },
  {
   "cell_type": "code",
   "execution_count": 12,
   "metadata": {},
   "outputs": [
    {
     "name": "stdout",
     "output_type": "stream",
     "text": [
      "Fitting 3 folds for each of 10 candidates, totalling 30 fits\n"
     ]
    },
    {
     "name": "stderr",
     "output_type": "stream",
     "text": [
      "[Parallel(n_jobs=6)]: Done   1 tasks      | elapsed:   47.9s\n",
      "[Parallel(n_jobs=6)]: Done   6 tasks      | elapsed:   51.8s\n",
      "[Parallel(n_jobs=6)]: Done  13 tasks      | elapsed:  2.2min\n",
      "[Parallel(n_jobs=6)]: Done  23 out of  30 | elapsed:  2.9min remaining:   53.6s\n",
      "[Parallel(n_jobs=6)]: Done  27 out of  30 | elapsed:  3.5min remaining:   23.6s\n",
      "[Parallel(n_jobs=6)]: Done  30 out of  30 | elapsed:  3.6min finished\n"
     ]
    },
    {
     "data": {
      "text/plain": [
       "GridSearchCV(cv=3, error_score='raise',\n",
       "       estimator=Ridge(alpha=1.0, copy_X=True, fit_intercept=True, max_iter=None,\n",
       "   normalize=False, random_state=None, solver='auto', tol=0.001),\n",
       "       fit_params=None, iid=True, n_jobs=6,\n",
       "       param_grid={'alpha': array([ 7.     ,  9.55556, 12.11111, 14.66667, 17.22222, 19.77778,\n",
       "       22.33333, 24.88889, 27.44444, 30.     ])},\n",
       "       pre_dispatch='2*n_jobs', refit=True, return_train_score='warn',\n",
       "       scoring='neg_median_absolute_error', verbose=10)"
      ]
     },
     "execution_count": 12,
     "metadata": {},
     "output_type": "execute_result"
    }
   ],
   "source": [
    "import numpy as np\n",
    "from sklearn.linear_model import Ridge\n",
    "from sklearn.model_selection import GridSearchCV\n",
    "\n",
    "param_grid = {\n",
    "    'alpha' : np.linspace(start = 7,stop = 30, num = 10)\n",
    "}\n",
    "\n",
    "# We have 8 CPU cores, we will use 6 for this task\n",
    "RidgeSearch1 = GridSearchCV(estimator= Ridge(), \n",
    "                            param_grid= param_grid,\n",
    "                            n_jobs = 6,\n",
    "                            cv = 3,\n",
    "                            verbose = 10, scoring= 'neg_median_absolute_error'\n",
    "                            )\n",
    "RidgeSearch1.fit(X_train_trans_ridge, np.log(y_train))"
   ]
  },
  {
   "cell_type": "code",
   "execution_count": 13,
   "metadata": {},
   "outputs": [
    {
     "data": {
      "text/plain": [
       "Ridge(alpha=30.0, copy_X=True, fit_intercept=True, max_iter=None,\n",
       "   normalize=False, random_state=None, solver='auto', tol=0.001)"
      ]
     },
     "execution_count": 13,
     "metadata": {},
     "output_type": "execute_result"
    }
   ],
   "source": [
    "RidgeSearch1.best_estimator_"
   ]
  },
  {
   "cell_type": "code",
   "execution_count": 14,
   "metadata": {},
   "outputs": [
    {
     "data": {
      "text/plain": [
       "35.605317323806844"
      ]
     },
     "execution_count": 14,
     "metadata": {},
     "output_type": "execute_result"
    }
   ],
   "source": [
    "from sklearn.metrics import median_absolute_error\n",
    "# Let's see the validation MAE (in original target scale) from the best estimator\n",
    "preds = RidgeSearch1.best_estimator_.predict(X_val_trans_ridge)\n",
    "median_absolute_error(y_val,np.exp(preds))"
   ]
  },
  {
   "cell_type": "markdown",
   "metadata": {},
   "source": [
    "Let's search even a higher alpha space:"
   ]
  },
  {
   "cell_type": "code",
   "execution_count": 18,
   "metadata": {},
   "outputs": [
    {
     "name": "stdout",
     "output_type": "stream",
     "text": [
      "Fitting 3 folds for each of 10 candidates, totalling 30 fits\n"
     ]
    },
    {
     "name": "stderr",
     "output_type": "stream",
     "text": [
      "[Parallel(n_jobs=6)]: Done   1 tasks      | elapsed:   21.4s\n",
      "[Parallel(n_jobs=6)]: Done   6 tasks      | elapsed:   28.7s\n",
      "[Parallel(n_jobs=6)]: Done  13 tasks      | elapsed:   49.5s\n",
      "[Parallel(n_jobs=6)]: Done  23 out of  30 | elapsed:  1.0min remaining:   18.7s\n",
      "[Parallel(n_jobs=6)]: Done  27 out of  30 | elapsed:  1.2min remaining:    7.7s\n",
      "[Parallel(n_jobs=6)]: Done  30 out of  30 | elapsed:  1.2min finished\n"
     ]
    },
    {
     "data": {
      "text/plain": [
       "GridSearchCV(cv=3, error_score='raise',\n",
       "       estimator=Ridge(alpha=1.0, copy_X=True, fit_intercept=True, max_iter=None,\n",
       "   normalize=False, random_state=None, solver='auto', tol=0.001),\n",
       "       fit_params=None, iid=True, n_jobs=6,\n",
       "       param_grid={'alpha': array([ 100.,  200.,  300.,  400.,  500.,  600.,  700.,  800.,  900.,\n",
       "       1000.])},\n",
       "       pre_dispatch='2*n_jobs', refit=True, return_train_score='warn',\n",
       "       scoring='neg_median_absolute_error', verbose=10)"
      ]
     },
     "execution_count": 18,
     "metadata": {},
     "output_type": "execute_result"
    }
   ],
   "source": [
    "import numpy as np\n",
    "from sklearn.linear_model import Ridge\n",
    "from sklearn.model_selection import GridSearchCV\n",
    "\n",
    "param_grid = {\n",
    "    'alpha' : np.linspace(start = 100,stop = 1000, num = 10)\n",
    "}\n",
    "\n",
    "# We have 8 CPU cores, we will use 6 for this task\n",
    "RidgeSearch1 = GridSearchCV(estimator= Ridge(), \n",
    "                            param_grid= param_grid,\n",
    "                            n_jobs = 6,\n",
    "                            cv = 3,\n",
    "                            verbose = 10, scoring= 'neg_median_absolute_error'\n",
    "                            )\n",
    "RidgeSearch1.fit(X_train_trans_ridge, np.log(y_train))"
   ]
  },
  {
   "cell_type": "code",
   "execution_count": 19,
   "metadata": {},
   "outputs": [
    {
     "data": {
      "text/plain": [
       "Ridge(alpha=500.0, copy_X=True, fit_intercept=True, max_iter=None,\n",
       "   normalize=False, random_state=None, solver='auto', tol=0.001)"
      ]
     },
     "execution_count": 19,
     "metadata": {},
     "output_type": "execute_result"
    }
   ],
   "source": [
    "RidgeSearch1.best_estimator_"
   ]
  },
  {
   "cell_type": "code",
   "execution_count": 20,
   "metadata": {},
   "outputs": [
    {
     "data": {
      "text/plain": [
       "33.40476844592181"
      ]
     },
     "execution_count": 20,
     "metadata": {},
     "output_type": "execute_result"
    }
   ],
   "source": [
    "from sklearn.metrics import median_absolute_error\n",
    "# Let's see the validation MAE (in original target scale) from the best estimator\n",
    "preds = RidgeSearch1.best_estimator_.predict(X_val_trans_ridge)\n",
    "median_absolute_error(y_val,np.exp(preds))"
   ]
  },
  {
   "cell_type": "markdown",
   "metadata": {},
   "source": [
    "Let's perform a fine gridsearch around **alpha = 500 **"
   ]
  },
  {
   "cell_type": "code",
   "execution_count": 21,
   "metadata": {},
   "outputs": [
    {
     "name": "stdout",
     "output_type": "stream",
     "text": [
      "Fitting 3 folds for each of 10 candidates, totalling 30 fits\n"
     ]
    },
    {
     "name": "stderr",
     "output_type": "stream",
     "text": [
      "[Parallel(n_jobs=6)]: Done   1 tasks      | elapsed:   12.0s\n",
      "[Parallel(n_jobs=6)]: Done   6 tasks      | elapsed:   15.6s\n",
      "[Parallel(n_jobs=6)]: Done  13 tasks      | elapsed:   36.8s\n",
      "[Parallel(n_jobs=6)]: Done  23 out of  30 | elapsed:   52.0s remaining:   15.7s\n",
      "[Parallel(n_jobs=6)]: Done  27 out of  30 | elapsed:  1.0min remaining:    6.8s\n",
      "[Parallel(n_jobs=6)]: Done  30 out of  30 | elapsed:  1.0min finished\n"
     ]
    },
    {
     "data": {
      "text/plain": [
       "GridSearchCV(cv=3, error_score='raise',\n",
       "       estimator=Ridge(alpha=1.0, copy_X=True, fit_intercept=True, max_iter=None,\n",
       "   normalize=False, random_state=None, solver='auto', tol=0.001),\n",
       "       fit_params=None, iid=True, n_jobs=6,\n",
       "       param_grid={'alpha': array([450.     , 461.11111, 472.22222, 483.33333, 494.44444, 505.55556,\n",
       "       516.66667, 527.77778, 538.88889, 550.     ])},\n",
       "       pre_dispatch='2*n_jobs', refit=True, return_train_score='warn',\n",
       "       scoring='neg_median_absolute_error', verbose=10)"
      ]
     },
     "execution_count": 21,
     "metadata": {},
     "output_type": "execute_result"
    }
   ],
   "source": [
    "import numpy as np\n",
    "from sklearn.linear_model import Ridge\n",
    "from sklearn.model_selection import GridSearchCV\n",
    "\n",
    "param_grid = {\n",
    "    'alpha' : np.linspace(start = 450,stop = 550, num = 10)\n",
    "}\n",
    "\n",
    "# We have 8 CPU cores, we will use 6 for this task\n",
    "RidgeSearch1 = GridSearchCV(estimator= Ridge(), \n",
    "                            param_grid= param_grid,\n",
    "                            n_jobs = 6,\n",
    "                            cv = 3,\n",
    "                            verbose = 10, scoring= 'neg_median_absolute_error'\n",
    "                            )\n",
    "RidgeSearch1.fit(X_train_trans_ridge, np.log(y_train))"
   ]
  },
  {
   "cell_type": "code",
   "execution_count": 22,
   "metadata": {},
   "outputs": [
    {
     "data": {
      "text/plain": [
       "Ridge(alpha=505.55555555555554, copy_X=True, fit_intercept=True,\n",
       "   max_iter=None, normalize=False, random_state=None, solver='auto',\n",
       "   tol=0.001)"
      ]
     },
     "execution_count": 22,
     "metadata": {},
     "output_type": "execute_result"
    }
   ],
   "source": [
    "RidgeSearch1.best_estimator_"
   ]
  },
  {
   "cell_type": "code",
   "execution_count": 23,
   "metadata": {},
   "outputs": [
    {
     "data": {
      "text/plain": [
       "33.41944121039738"
      ]
     },
     "execution_count": 23,
     "metadata": {},
     "output_type": "execute_result"
    }
   ],
   "source": [
    "from sklearn.metrics import median_absolute_error\n",
    "# Let's see the validation MAE (in original target scale) from the best estimator\n",
    "preds = RidgeSearch1.best_estimator_.predict(X_val_trans_ridge)\n",
    "median_absolute_error(y_val,np.exp(preds))"
   ]
  },
  {
   "cell_type": "markdown",
   "metadata": {},
   "source": [
    "It looks like we converged to alpha around 500. By this way we managed to reduce the error from 37 to 33.4. \n",
    "\n",
    "**The basic pipeline and a Ridge model with alpha = 500, forms our benchmark model at this point.**"
   ]
  },
  {
   "cell_type": "markdown",
   "metadata": {},
   "source": [
    "### Ridge Regression with interaction terms\n",
    "\n",
    "#### Feature Extraction Pipeline\n",
    "\n",
    "Having established a benchmark model, let's see if we can improve predictive performance by adding interaction terms into the model. In order to perform this, we need to select a reasonable number (300) of features after tokenization, add polynomial interaction terms using these features and use the resulting features to train Ridge models.\n",
    "\n",
    "Note that in this case our pipeline will carry a 'state', that is, it will learn which features to be selected after the tokenization based on the training set. It will then transform other data sets based on this information."
   ]
  },
  {
   "cell_type": "code",
   "execution_count": 2,
   "metadata": {},
   "outputs": [],
   "source": [
    "from sklearn.pipeline import Pipeline, FeatureUnion\n",
    "from sklearn.preprocessing import MaxAbsScaler,FunctionTransformer, Imputer\n",
    "from sklearn.feature_selection import SelectKBest, f_regression\n",
    "from sklearn.feature_extraction.text import HashingVectorizer\n",
    "\n",
    "# First we build two utility functions to parse numeric and text data, \n",
    "# and wrap them using FunctionTransformer, so that they can be integrated into a sklearn pipeline:\n",
    "def text_columns(X_train):\n",
    "    return X_train.TEXT_FEATURES\n",
    "\n",
    "def numeric_columns(X_train):\n",
    "    numeric = ['APPLICANT_PRIOR_CLEARANCE_TO_DATE','DEVICENAME_PRIOR_CLEARANCE_TO_DATE']\n",
    "    temp = X_train[numeric]\n",
    "    return temp\n",
    "\n",
    "get_numeric_data = FunctionTransformer(func = numeric_columns, validate=False) \n",
    "get_text_data = FunctionTransformer(func = text_columns,validate=False) \n",
    "# Note how we avoid putting any arguments into text_columns and numeric_columns\n",
    "\n",
    "# We also need to create our regex token pattern to use in HashingVectorizer. \n",
    "TOKENS_ALPHANUMERIC = '[A-Za-z0-9]+(?=\\\\s+)'   \n",
    "#Note this regex will match either a whitespace or a punctuation to tokenize the string vector on these preferences  \n",
    "\n",
    "# We also need to redefine the default feature selection function for regression to properly place into our pipeline:\n",
    "def f_regression(X,Y):\n",
    "    import sklearn\n",
    "    return sklearn.feature_selection.f_regression(X,Y,center = False) # default is center = True\n",
    "\n",
    "#Load SparseInteractions as a module since it was saved into working directory as SparseInteractions.py\n",
    "from SparseInteractions import * \n",
    "\n",
    "\n",
    "\n",
    "pipeline510k_Ridge2 = Pipeline([\n",
    "    \n",
    "    (\"union\",FeatureUnion( # Note that FeatureUnion() accepts list of tuples, the first half of each tuple is the name of the transformer\n",
    "        \n",
    "        transformer_list = [\n",
    "            \n",
    "            (\"numeric_subpipeline\", Pipeline([ # Note we have subpipeline branches inside the main pipeline\n",
    "                \n",
    "                (\"parser\",get_numeric_data), # Step1: parse the numeric data (note how we avoid () when using FunctionTransformer objects)\n",
    "                (\"imputer\",Imputer()), # Step2: impute missing values (we don't expect any)\n",
    "            \n",
    "            ])), # Branching point of the FeatureUnion\n",
    "            \n",
    "            (\"text_subpipeline\",Pipeline([\n",
    "            \n",
    "                (\"parser\",get_text_data), # Step1: parse the text data \n",
    "                (\"tokenizer\",HashingVectorizer(token_pattern= TOKENS_ALPHANUMERIC,n_features= 2 ** 18,decode_error='ignore',\n",
    "                                             stop_words = \"english\",# We will remove English stop words before tokenization\n",
    "                                             ngram_range = (1,1), # We will tokenize to single words only\n",
    "                                             non_negative=True, norm=None, binary=True  \n",
    "                                            )),# Step2: use HashingVectorizer for automated tokenization and feature extraction\n",
    "                (\"dim_red1\", SelectKBest(f_regression,300))  # Select 300 best features after tokenization                         \n",
    "                \n",
    "            ]))\n",
    "        ]\n",
    "    \n",
    "    )),# Branching point to the main pipeline: at this point all features are numeric\n",
    "    (\"int\", SparseInteractions(degree=2)), # Add polynomial interaction terms up to second degree\n",
    "    (\"scaler\",MaxAbsScaler()) # Scale the features   \n",
    "])\n"
   ]
  },
  {
   "cell_type": "markdown",
   "metadata": {},
   "source": [
    "#### Build the feature extraction pipeline using training set and transform both data sets"
   ]
  },
  {
   "cell_type": "code",
   "execution_count": 3,
   "metadata": {},
   "outputs": [
    {
     "name": "stdout",
     "output_type": "stream",
     "text": [
      "Completed processing X_train in: 3.55 minutes.\n",
      "Completed processing X_val in: 0.7333333333333333 minutes.\n"
     ]
    }
   ],
   "source": [
    "import datetime\n",
    "from warnings import filterwarnings\n",
    "\n",
    "filterwarnings(\"ignore\")\n",
    "\n",
    "start = datetime.datetime.now()\n",
    "\n",
    "X_train_trans_ridge2 = pipeline510k_Ridge2.fit(X_train, y_train).transform(X_train)\n",
    "\n",
    "end = datetime.datetime.now()\n",
    "print(\"Completed processing X_train in: \" + str((end-start).seconds/60) + \" minutes.\")\n",
    "\n",
    "start = datetime.datetime.now()\n",
    "\n",
    "X_val_trans_ridge2 = pipeline510k_Ridge2.transform(X_val)\n",
    "\n",
    "end = datetime.datetime.now()\n",
    "print(\"Completed processing X_val in: \" + str((end-start).seconds/60) + \" minutes.\")"
   ]
  },
  {
   "cell_type": "code",
   "execution_count": 7,
   "metadata": {},
   "outputs": [
    {
     "name": "stdout",
     "output_type": "stream",
     "text": [
      "(32275, 45753)\n",
      "(15899, 45753)\n",
      "<class 'scipy.sparse.csc.csc_matrix'>\n",
      "<class 'scipy.sparse.csc.csc_matrix'>\n"
     ]
    }
   ],
   "source": [
    "print(X_train_trans_ridge2.shape)\n",
    "print(X_val_trans_ridge2.shape)\n",
    "print(type(X_train_trans_ridge2))\n",
    "print(type(X_val_trans_ridge2))"
   ]
  },
  {
   "cell_type": "code",
   "execution_count": 10,
   "metadata": {},
   "outputs": [
    {
     "name": "stdout",
     "output_type": "stream",
     "text": [
      "(32275, 262146)\n",
      "(15899, 262146)\n",
      "<class 'scipy.sparse.csr.csr_matrix'>\n",
      "<class 'scipy.sparse.csr.csr_matrix'>\n"
     ]
    }
   ],
   "source": [
    "print(X_train_trans_ridge.shape)\n",
    "print(X_val_trans_ridge.shape)\n",
    "print(type(X_train_trans_ridge))\n",
    "print(type(X_val_trans_ridge))"
   ]
  },
  {
   "cell_type": "markdown",
   "metadata": {},
   "source": [
    "Note that the sparse matrices we obtained from the second pipeline are type csc, we need to convert them to csr to be able to compare the computational costs with Ridge1 model."
   ]
  },
  {
   "cell_type": "code",
   "execution_count": 11,
   "metadata": {},
   "outputs": [
    {
     "name": "stdout",
     "output_type": "stream",
     "text": [
      "(32275, 45753)\n",
      "(15899, 45753)\n",
      "<class 'scipy.sparse.csr.csr_matrix'>\n",
      "<class 'scipy.sparse.csr.csr_matrix'>\n"
     ]
    }
   ],
   "source": [
    "X_train_trans_ridge2 = X_train_trans_ridge2.tocsr()\n",
    "X_val_trans_ridge2 = X_val_trans_ridge2.tocsr()\n",
    "print(X_train_trans_ridge2.shape)\n",
    "print(X_val_trans_ridge2.shape)\n",
    "print(type(X_train_trans_ridge2))\n",
    "print(type(X_val_trans_ridge2))"
   ]
  },
  {
   "cell_type": "markdown",
   "metadata": {},
   "source": [
    "#### Training untuned Ridge model with interaction terms"
   ]
  },
  {
   "cell_type": "code",
   "execution_count": null,
   "metadata": {},
   "outputs": [],
   "source": [
    "from sklearn.linear_model import Ridge\n",
    "from sklearn.metrics import median_absolute_error\n",
    "\n",
    "start = datetime.datetime.now()\n",
    "\n",
    "ridge2 = Ridge(alpha=0.7)\n",
    "\n",
    "ridge2.fit(X_train_trans_ridge2, np.log(y_train))\n",
    "preds = ridge2.predict(X_val_trans_ridge2)\n",
    "\n",
    "mae = median_absolute_error(y_val,np.exp(preds))\n",
    "\n",
    "end = datetime.datetime.now()\n",
    "print(\"Median Absolute Error: \", str(mae))\n",
    "print(\"Completed model fit and predictions in: \" + str((end-start).seconds/60) + \" minutes.\")"
   ]
  },
  {
   "cell_type": "markdown",
   "metadata": {},
   "source": [
    "This attempt was not productive. The model takes unusually long to train, so we are not going to further pursue pipeline 2.\n",
    "\n",
    "### Ridge Regression with feature selection\n",
    "\n",
    "#### Feature Extraction Pipeline\n",
    "\n",
    "This will be our final attempt to include a feature selection step along with the simple Ridge pipeline. We will test if this \"double regularization\" further improve predictive performance."
   ]
  },
  {
   "cell_type": "code",
   "execution_count": 4,
   "metadata": {},
   "outputs": [],
   "source": [
    "from sklearn.pipeline import Pipeline, FeatureUnion\n",
    "from sklearn.preprocessing import MaxAbsScaler,FunctionTransformer, Imputer\n",
    "from sklearn.feature_selection import SelectKBest, f_regression\n",
    "from sklearn.feature_extraction.text import HashingVectorizer\n",
    "\n",
    "# First we build two utility functions to parse numeric and text data, \n",
    "# and wrap them using FunctionTransformer, so that they can be integrated into a sklearn pipeline:\n",
    "def text_columns(X_train):\n",
    "    return X_train.TEXT_FEATURES\n",
    "\n",
    "def numeric_columns(X_train):\n",
    "    numeric = ['APPLICANT_PRIOR_CLEARANCE_TO_DATE','DEVICENAME_PRIOR_CLEARANCE_TO_DATE']\n",
    "    temp = X_train[numeric]\n",
    "    return temp\n",
    "\n",
    "get_numeric_data = FunctionTransformer(func = numeric_columns, validate=False) \n",
    "get_text_data = FunctionTransformer(func = text_columns,validate=False) \n",
    "# Note how we avoid putting any arguments into text_columns and numeric_columns\n",
    "\n",
    "# We also need to create our regex token pattern to use in HashingVectorizer. \n",
    "TOKENS_ALPHANUMERIC = '[A-Za-z0-9]+(?=\\\\s+)'   \n",
    "#Note this regex will match either a whitespace or a punctuation to tokenize the string vector on these preferences  \n",
    "\n",
    "# We also need to redefine the default feature selection function for regression to properly place into our pipeline:\n",
    "def f_regression(X,Y):\n",
    "    import sklearn\n",
    "    return sklearn.feature_selection.f_regression(X,Y,center = False) # default is center = True\n",
    "\n",
    "pipeline510k_Ridge3 = Pipeline([\n",
    "    \n",
    "    (\"union\",FeatureUnion( # Note that FeatureUnion() accepts list of tuples, the first half of each tuple is the name of the transformer\n",
    "        \n",
    "        transformer_list = [\n",
    "            \n",
    "            (\"numeric_subpipeline\", Pipeline([ # Note we have subpipeline branches inside the main pipeline\n",
    "                \n",
    "                (\"parser\",get_numeric_data), # Step1: parse the numeric data (note how we avoid () when using FunctionTransformer objects)\n",
    "                (\"imputer\",Imputer()), # Step2: impute missing values (we don't expect any)\n",
    "            \n",
    "            ])), # Branching point of the FeatureUnion\n",
    "            \n",
    "            (\"text_subpipeline\",Pipeline([\n",
    "            \n",
    "                (\"parser\",get_text_data), # Step1: parse the text data \n",
    "                (\"tokenizer\",HashingVectorizer(token_pattern= TOKENS_ALPHANUMERIC,n_features= 2 ** 18,decode_error='ignore',\n",
    "                                             stop_words = \"english\",# We will remove English stop words before tokenization\n",
    "                                             ngram_range = (1,1), # We will tokenize to single words only\n",
    "                                             non_negative=True, norm=None, binary=True  \n",
    "                                            ))# Step2: use HashingVectorizer for automated tokenization and feature extraction\n",
    "               \n",
    "                \n",
    "            ]))\n",
    "        ]\n",
    "    \n",
    "    )),# Branching point to the main pipeline: at this point all features are numeric\n",
    "    (\"dim_red1\", SelectKBest(f_regression,300)),  # Select 300 best features                      \n",
    "    (\"scaler\",MaxAbsScaler()) # Scale the features   \n",
    "])\n"
   ]
  },
  {
   "cell_type": "markdown",
   "metadata": {},
   "source": [
    "#### Build the feature extraction pipeline using training set and transform both data sets"
   ]
  },
  {
   "cell_type": "code",
   "execution_count": 5,
   "metadata": {},
   "outputs": [
    {
     "name": "stdout",
     "output_type": "stream",
     "text": [
      "Completed processing X_train in: 0.7666666666666667 minutes.\n",
      "Completed processing X_val in: 0.18333333333333332 minutes.\n",
      "(32275, 300)\n",
      "(15899, 300)\n",
      "<class 'scipy.sparse.csr.csr_matrix'>\n",
      "<class 'scipy.sparse.csr.csr_matrix'>\n"
     ]
    }
   ],
   "source": [
    "import datetime\n",
    "from warnings import filterwarnings\n",
    "\n",
    "filterwarnings(\"ignore\")\n",
    "\n",
    "start = datetime.datetime.now()\n",
    "\n",
    "X_train_trans_ridge3 = pipeline510k_Ridge3.fit(X_train, y_train).transform(X_train)\n",
    "\n",
    "end = datetime.datetime.now()\n",
    "print(\"Completed processing X_train in: \" + str((end-start).seconds/60) + \" minutes.\")\n",
    "\n",
    "start = datetime.datetime.now()\n",
    "\n",
    "X_val_trans_ridge3 = pipeline510k_Ridge3.transform(X_val)\n",
    "\n",
    "end = datetime.datetime.now()\n",
    "print(\"Completed processing X_val in: \" + str((end-start).seconds/60) + \" minutes.\")\n",
    "\n",
    "print(X_train_trans_ridge3.shape)\n",
    "print(X_val_trans_ridge3.shape)\n",
    "print(type(X_train_trans_ridge3))\n",
    "print(type(X_val_trans_ridge3))"
   ]
  },
  {
   "cell_type": "markdown",
   "metadata": {},
   "source": [
    "#### Training untuned Ridge model after feature selection"
   ]
  },
  {
   "cell_type": "code",
   "execution_count": 16,
   "metadata": {},
   "outputs": [
    {
     "name": "stdout",
     "output_type": "stream",
     "text": [
      "Median Absolute Error:  38.41378190269063\n",
      "Completed model fit and predictions in: 0.11666666666666667 minutes.\n"
     ]
    }
   ],
   "source": [
    "from sklearn.linear_model import Ridge\n",
    "from sklearn.metrics import median_absolute_error\n",
    "import numpy as np\n",
    "\n",
    "start = datetime.datetime.now()\n",
    "\n",
    "ridge3 = Ridge(alpha=0.7)\n",
    "\n",
    "ridge3.fit(X_train_trans_ridge3, np.log(y_train))\n",
    "preds = ridge3.predict(X_val_trans_ridge3)\n",
    "\n",
    "mae = median_absolute_error(y_val,np.exp(preds))\n",
    "\n",
    "end = datetime.datetime.now()\n",
    "print(\"Median Absolute Error: \", str(mae))\n",
    "print(\"Completed model fit and predictions in: \" + str((end-start).seconds/60) + \" minutes.\")"
   ]
  },
  {
   "cell_type": "markdown",
   "metadata": {},
   "source": [
    "### Conclusions and final model \n",
    "\n",
    "At this point we conclude that the best model we could get by Ridge is using the first pipeline (the most basic pipeline without any feature selection or interaction terms) and tuning alpha to 500. This gives a validation median abosulte error of 33 decision days.\n",
    "\n",
    "Let's train and save the final model along with the pipeline."
   ]
  },
  {
   "cell_type": "code",
   "execution_count": 22,
   "metadata": {},
   "outputs": [
    {
     "name": "stdout",
     "output_type": "stream",
     "text": [
      "Saved the pipeline.\n",
      "****************************************\n",
      "Median Absolute Error:  33.396583333081466\n",
      "Completed model fit and predictions in: 0.06666666666666667 minutes.\n",
      "Saved the model.\n",
      "****************************************\n",
      "Saved the transformed data sets.\n",
      "****************************************\n"
     ]
    }
   ],
   "source": [
    "# Save the work into a dedicated workspace \"ridge\"\n",
    "disk_ridge = \"ridge\"\n",
    "import pickle\n",
    "import os\n",
    "if not os.path.exists(disk_ridge):\n",
    "    os.makedirs(disk_ridge)\n",
    "\n",
    "# Save the pipeline\n",
    "with open(disk_ridge + \"\\pipeline510k_Ridge1.pkl\", \"wb\") as f:\n",
    "    pickle.dump(pipeline510k_Ridge1,f)\n",
    "\n",
    "print(\"Saved the pipeline.\")\n",
    "print(\"*\" * 40)\n",
    "\n",
    "# Retrieve the tuned Ridge Model\n",
    "from sklearn.linear_model import Ridge\n",
    "from sklearn.metrics import median_absolute_error\n",
    "import numpy as np\n",
    "\n",
    "start = datetime.datetime.now()\n",
    "\n",
    "ridge1 = Ridge(alpha=500)\n",
    "\n",
    "ridge1.fit(X_train_trans_ridge, np.log(y_train))\n",
    "preds = ridge1.predict(X_val_trans_ridge)\n",
    "\n",
    "mae = median_absolute_error(y_val,np.exp(preds))\n",
    "\n",
    "end = datetime.datetime.now()\n",
    "print(\"Median Absolute Error: \", str(mae))\n",
    "print(\"Completed model fit and predictions in: \" + str((end-start).seconds/60) + \" minutes.\")\n",
    "\n",
    "# Save the model\n",
    "with open(disk_ridge + \"/ridge1_model.pkl\", \"wb\") as f:\n",
    "    pickle.dump(ridge1,f)\n",
    "\n",
    "print(\"Saved the model.\")    \n",
    "print(\"*\" * 40)\n",
    "\n",
    "# Save transformed data sets\n",
    "with open(disk_ridge + \"\\X_train_trans_ridge.pkl\", \"wb\") as f:\n",
    "    pickle.dump(X_train_trans_ridge,f)\n",
    "    \n",
    "with open(disk_ridge + \"\\X_val_trans_ridge.pkl\", \"wb\") as f:\n",
    "    pickle.dump(X_val_trans_ridge,f) \n",
    "    \n",
    "print(\"Saved the transformed data sets.\")   \n",
    "print(\"*\" * 40)"
   ]
  }
 ],
 "metadata": {
  "kernelspec": {
   "display_name": "Python 3",
   "language": "python",
   "name": "python3"
  },
  "language_info": {
   "codemirror_mode": {
    "name": "ipython",
    "version": 3
   },
   "file_extension": ".py",
   "mimetype": "text/x-python",
   "name": "python",
   "nbconvert_exporter": "python",
   "pygments_lexer": "ipython3",
   "version": "3.6.4"
  }
 },
 "nbformat": 4,
 "nbformat_minor": 2
}
