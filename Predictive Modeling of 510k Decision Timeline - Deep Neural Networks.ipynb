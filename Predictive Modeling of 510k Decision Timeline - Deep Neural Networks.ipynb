{
 "cells": [
  {
   "cell_type": "markdown",
   "metadata": {},
   "source": [
    "## Using Deep Neural Networks for Prediction\n",
    "\n",
    "We will start by selecting a reasonable number of features using a sklearn pipeline, then we will try to train simple bechmark neural networks. \n",
    "\n",
    "### Feature selection pipeline\n",
    "\n",
    "Let's select best features after collecting up to 2-grams.\n"
   ]
  },
  {
   "cell_type": "code",
   "execution_count": 1,
   "metadata": {},
   "outputs": [],
   "source": [
    "from sklearn.pipeline import Pipeline, FeatureUnion\n",
    "from sklearn.preprocessing import MaxAbsScaler,FunctionTransformer, Imputer\n",
    "from sklearn.feature_selection import SelectKBest, f_regression\n",
    "from sklearn.feature_extraction.text import HashingVectorizer\n",
    "\n",
    "# First we build two utility functions to parse numeric and text data, \n",
    "# and wrap them using FunctionTransformer, so that they can be integrated into a sklearn pipeline:\n",
    "def text_columns(X_train):\n",
    "    return X_train.TEXT_FEATURES\n",
    "\n",
    "def numeric_columns(X_train):\n",
    "    numeric = ['APPLICANT_PRIOR_CLEARANCE_TO_DATE','DEVICENAME_PRIOR_CLEARANCE_TO_DATE']\n",
    "    temp = X_train[numeric]\n",
    "    return temp\n",
    "\n",
    "get_numeric_data = FunctionTransformer(func = numeric_columns, validate=False) \n",
    "get_text_data = FunctionTransformer(func = text_columns,validate=False) \n",
    "# Note how we avoid putting any arguments into text_columns and numeric_columns\n",
    "\n",
    "# We also need to create our regex token pattern to use in HashingVectorizer. \n",
    "TOKENS_ALPHANUMERIC = '[A-Za-z0-9]+(?=\\\\s+)'   \n",
    "#Note this regex will match either a whitespace or a punctuation to tokenize the string vector on these preferences  \n",
    "\n",
    "# We also need to redefine the default feature selection function for regression to properly place into our pipeline:\n",
    "def f_regression(X,Y):\n",
    "    import sklearn\n",
    "    return sklearn.feature_selection.f_regression(X,Y,center = False) # default is center = True\n",
    "\n",
    "\n",
    "pipeline510k_NNet1 = Pipeline([\n",
    "    \n",
    "    (\"union\",FeatureUnion( # Note that FeatureUnion() accepts list of tuples, the first half of each tuple is the name of the transformer\n",
    "        \n",
    "        transformer_list = [\n",
    "            \n",
    "            (\"numeric_subpipeline\", Pipeline([ # Note we have subpipeline branches inside the main pipeline\n",
    "                \n",
    "                (\"parser\",get_numeric_data), # Step1: parse the numeric data (note how we avoid () when using FunctionTransformer objects)\n",
    "                (\"imputer\",Imputer()), # Step2: impute missing values (we don't expect any)\n",
    "            \n",
    "            ])), # Branching point of the FeatureUnion\n",
    "            \n",
    "            (\"text_subpipeline\",Pipeline([\n",
    "            \n",
    "                (\"parser\",get_text_data), # Step1: parse the text data \n",
    "                (\"tokenizer\",HashingVectorizer(token_pattern= TOKENS_ALPHANUMERIC,n_features= 2*(2 ** 18),decode_error='ignore',\n",
    "                                             stop_words = \"english\",# We will remove English stop words before tokenization\n",
    "                                             ngram_range = (1,2), # We will tokenize to single words only\n",
    "                                             non_negative=True, norm=None, binary=True  \n",
    "                                            )) # Step2: use HashingVectorizer for automated tokenization and feature extraction\n",
    "                                           \n",
    "                \n",
    "            ]))\n",
    "        ]\n",
    "    \n",
    "    )),# Branching point to the main pipeline: at this point all features are numeric\n",
    "    \n",
    "    (\"scaler\",MaxAbsScaler()) # Scale the features\n",
    "    \n",
    "])\n"
   ]
  },
  {
   "cell_type": "code",
   "execution_count": 2,
   "metadata": {},
   "outputs": [],
   "source": [
    "import pickle\n",
    "# Load Training and Validation sets\n",
    "disk = \"D:\\Data_science\\GitHub\\Predictive-Modeling-510k-decision-time\"\n",
    "# Validation set \n",
    "with open(disk+\"\\X_val.pkl\",\"rb\") as f:\n",
    "    X_val=pickle.load(f)\n",
    "\n",
    "with open(disk+\"\\y_val.pkl\",\"rb\") as f:\n",
    "    y_val=pickle.load(f)\n",
    "    \n",
    "# Training set (Locked down)\n",
    "with open(disk+\"\\X_train.pkl\",\"rb\") as f:\n",
    "    X_train=pickle.load(f)\n",
    "\n",
    "with open(disk+\"\\y_train.pkl\",\"rb\") as f:\n",
    "    y_train=pickle.load(f) "
   ]
  },
  {
   "cell_type": "code",
   "execution_count": 3,
   "metadata": {},
   "outputs": [
    {
     "name": "stdout",
     "output_type": "stream",
     "text": [
      "Completed processing X_train in: 1.3333333333333333 minutes.\n",
      "Completed processing X_val in: 0.31666666666666665 minutes.\n"
     ]
    }
   ],
   "source": [
    "import datetime\n",
    "from warnings import filterwarnings\n",
    "import numpy as np\n",
    "\n",
    "filterwarnings(\"ignore\")\n",
    "\n",
    "start = datetime.datetime.now()\n",
    "\n",
    "X_train_trans_NNet = pipeline510k_NNet1.fit(X_train, y_train).transform(X_train)\n",
    "\n",
    "end = datetime.datetime.now()\n",
    "print(\"Completed processing X_train in: \" + str((end-start).seconds/60) + \" minutes.\")\n",
    "\n",
    "start = datetime.datetime.now()\n",
    "\n",
    "X_val_trans_NNet = pipeline510k_NNet1.transform(X_val)\n",
    "\n",
    "end = datetime.datetime.now()\n",
    "print(\"Completed processing X_val in: \" + str((end-start).seconds/60) + \" minutes.\")"
   ]
  },
  {
   "cell_type": "code",
   "execution_count": 4,
   "metadata": {},
   "outputs": [
    {
     "name": "stdout",
     "output_type": "stream",
     "text": [
      "(32275, 524290)\n",
      "(15899, 524290)\n",
      "<class 'scipy.sparse.csr.csr_matrix'>\n",
      "<class 'scipy.sparse.csr.csr_matrix'>\n"
     ]
    }
   ],
   "source": [
    "print(X_train_trans_NNet.shape)\n",
    "print(X_val_trans_NNet.shape)\n",
    "print(type(X_train_trans_NNet))\n",
    "print(type(X_val_trans_NNet))"
   ]
  },
  {
   "cell_type": "code",
   "execution_count": null,
   "metadata": {},
   "outputs": [
    {
     "name": "stdout",
     "output_type": "stream",
     "text": [
      "Training model using 300 features.\n",
      "Train on 22592 samples, validate on 9683 samples\n",
      "Epoch 1/10\n",
      "22592/22592 [==============================] - 0s 19us/step - loss: 1.0961 - mean_absolute_error: 1.0961 - val_loss: 0.7426 - val_mean_absolute_error: 0.7426\n",
      "Epoch 2/10\n",
      "22592/22592 [==============================] - 0s 10us/step - loss: 0.7111 - mean_absolute_error: 0.7111 - val_loss: 0.7013 - val_mean_absolute_error: 0.7013\n",
      "Epoch 3/10\n",
      "22592/22592 [==============================] - 0s 9us/step - loss: 0.6825 - mean_absolute_error: 0.6825 - val_loss: 0.6892 - val_mean_absolute_error: 0.6892\n",
      "Epoch 4/10\n",
      "22592/22592 [==============================] - 0s 10us/step - loss: 0.6634 - mean_absolute_error: 0.6634 - val_loss: 0.6627 - val_mean_absolute_error: 0.6627\n",
      "Epoch 5/10\n",
      "22592/22592 [==============================] - 0s 9us/step - loss: 0.6471 - mean_absolute_error: 0.6471 - val_loss: 0.6492 - val_mean_absolute_error: 0.6492\n",
      "Epoch 6/10\n",
      "22592/22592 [==============================] - 0s 10us/step - loss: 0.6366 - mean_absolute_error: 0.6366 - val_loss: 0.6415 - val_mean_absolute_error: 0.6415\n",
      "Epoch 7/10\n",
      "22592/22592 [==============================] - 0s 10us/step - loss: 0.6259 - mean_absolute_error: 0.6259 - val_loss: 0.6344 - val_mean_absolute_error: 0.6344\n",
      "Epoch 8/10\n",
      "22592/22592 [==============================] - 0s 11us/step - loss: 0.6144 - mean_absolute_error: 0.6144 - val_loss: 0.6320 - val_mean_absolute_error: 0.6320\n",
      "Epoch 9/10\n",
      "22592/22592 [==============================] - 0s 9us/step - loss: 0.6076 - mean_absolute_error: 0.6076 - val_loss: 0.6117 - val_mean_absolute_error: 0.6117\n",
      "Epoch 10/10\n",
      "22592/22592 [==============================] - 0s 10us/step - loss: 0.6081 - mean_absolute_error: 0.6081 - val_loss: 0.6105 - val_mean_absolute_error: 0.6105\n",
      "Completed model fit and predictions using 300 in: 0.05 minutes.\n",
      "Median Absolute Error: 38.61560821533203 features.\n",
      "****************************************************************************************************\n",
      "Training model using 5000 features.\n",
      "Train on 22592 samples, validate on 9683 samples\n",
      "Epoch 1/10\n",
      "22592/22592 [==============================] - 2s 69us/step - loss: 4.3302 - mean_absolute_error: 4.3302 - val_loss: 4.1327 - val_mean_absolute_error: 4.1327\n",
      "Epoch 2/10\n",
      "22592/22592 [==============================] - 1s 59us/step - loss: 3.7919 - mean_absolute_error: 3.7919 - val_loss: 3.3611 - val_mean_absolute_error: 3.3611\n",
      "Epoch 3/10\n",
      "22592/22592 [==============================] - 1s 57us/step - loss: 2.6952 - mean_absolute_error: 2.6952 - val_loss: 1.9034 - val_mean_absolute_error: 1.9034\n",
      "Epoch 4/10\n",
      "22592/22592 [==============================] - 1s 57us/step - loss: 1.1731 - mean_absolute_error: 1.1731 - val_loss: 0.7297 - val_mean_absolute_error: 0.7297\n",
      "Epoch 5/10\n",
      "22592/22592 [==============================] - 1s 58us/step - loss: 0.7039 - mean_absolute_error: 0.7039 - val_loss: 0.7024 - val_mean_absolute_error: 0.7024\n",
      "Epoch 6/10\n",
      "22592/22592 [==============================] - 1s 57us/step - loss: 0.7019 - mean_absolute_error: 0.7019 - val_loss: 0.7024 - val_mean_absolute_error: 0.7024\n",
      "Epoch 7/10\n",
      "22592/22592 [==============================] - 1s 56us/step - loss: 0.7019 - mean_absolute_error: 0.7019 - val_loss: 0.7024 - val_mean_absolute_error: 0.7024\n",
      "Epoch 8/10\n",
      "22592/22592 [==============================] - 1s 57us/step - loss: 0.7019 - mean_absolute_error: 0.7019 - val_loss: 0.7024 - val_mean_absolute_error: 0.7024\n",
      "Epoch 9/10\n",
      "22592/22592 [==============================] - 1s 58us/step - loss: 0.7018 - mean_absolute_error: 0.7018 - val_loss: 0.7024 - val_mean_absolute_error: 0.7024\n",
      "Epoch 10/10\n",
      "22592/22592 [==============================] - 1s 59us/step - loss: 0.7019 - mean_absolute_error: 0.7019 - val_loss: 0.7024 - val_mean_absolute_error: 0.7024\n",
      "Completed model fit and predictions using 5000 in: 0.23333333333333334 minutes.\n",
      "Median Absolute Error: 50.939476013183594 features.\n",
      "****************************************************************************************************\n",
      "Training model using 10000 features.\n",
      "Train on 22592 samples, validate on 9683 samples\n",
      "Epoch 1/10\n",
      "22592/22592 [==============================] - 3s 138us/step - loss: 1.2682 - mean_absolute_error: 1.2682 - val_loss: 0.6811 - val_mean_absolute_error: 0.6811\n",
      "Epoch 2/10\n",
      "22592/22592 [==============================] - 3s 115us/step - loss: 0.6410 - mean_absolute_error: 0.6410 - val_loss: 0.6260 - val_mean_absolute_error: 0.6260\n",
      "Epoch 3/10\n",
      "22592/22592 [==============================] - 2s 110us/step - loss: 0.5914 - mean_absolute_error: 0.5914 - val_loss: 0.5928 - val_mean_absolute_error: 0.5928\n",
      "Epoch 4/10\n",
      "22592/22592 [==============================] - 3s 113us/step - loss: 0.5479 - mean_absolute_error: 0.5479 - val_loss: 0.5639 - val_mean_absolute_error: 0.5639\n",
      "Epoch 5/10\n",
      "22592/22592 [==============================] - 3s 116us/step - loss: 0.5088 - mean_absolute_error: 0.5088 - val_loss: 0.5516 - val_mean_absolute_error: 0.5516\n",
      "Epoch 6/10\n",
      "22592/22592 [==============================] - 2s 110us/step - loss: 0.4864 - mean_absolute_error: 0.4864 - val_loss: 0.5505 - val_mean_absolute_error: 0.5505\n",
      "Epoch 7/10\n",
      "22592/22592 [==============================] - 3s 112us/step - loss: 0.4677 - mean_absolute_error: 0.4677 - val_loss: 0.5483 - val_mean_absolute_error: 0.5483\n",
      "Epoch 8/10\n",
      "22592/22592 [==============================] - 3s 112us/step - loss: 0.4523 - mean_absolute_error: 0.4523 - val_loss: 0.5466 - val_mean_absolute_error: 0.5466\n",
      "Epoch 9/10\n",
      "22592/22592 [==============================] - 3s 114us/step - loss: 0.4380 - mean_absolute_error: 0.4380 - val_loss: 0.5526 - val_mean_absolute_error: 0.5526\n",
      "Epoch 10/10\n",
      "22592/22592 [==============================] - 2s 109us/step - loss: 0.4330 - mean_absolute_error: 0.4330 - val_loss: 0.5623 - val_mean_absolute_error: 0.5623\n",
      "Completed model fit and predictions using 10000 in: 0.45 minutes.\n",
      "Median Absolute Error: 35.935977935791016 features.\n",
      "****************************************************************************************************\n",
      "Training model using 20000 features.\n",
      "Train on 22592 samples, validate on 9683 samples\n",
      "Epoch 1/10\n",
      "22592/22592 [==============================] - 5s 218us/step - loss: 1.0482 - mean_absolute_error: 1.0482 - val_loss: 0.6319 - val_mean_absolute_error: 0.6319\n",
      "Epoch 2/10\n",
      "22592/22592 [==============================] - 5s 203us/step - loss: 0.5774 - mean_absolute_error: 0.5774 - val_loss: 0.5841 - val_mean_absolute_error: 0.5841\n",
      "Epoch 3/10\n",
      "22592/22592 [==============================] - 5s 202us/step - loss: 0.5090 - mean_absolute_error: 0.5090 - val_loss: 0.5589 - val_mean_absolute_error: 0.5589\n",
      "Epoch 4/10\n",
      "22592/22592 [==============================] - 5s 200us/step - loss: 0.4635 - mean_absolute_error: 0.4635 - val_loss: 0.5553 - val_mean_absolute_error: 0.5553\n",
      "Epoch 5/10\n",
      "22592/22592 [==============================] - 4s 197us/step - loss: 0.4300 - mean_absolute_error: 0.4300 - val_loss: 0.5578 - val_mean_absolute_error: 0.5578\n",
      "Epoch 6/10\n",
      "22592/22592 [==============================] - 4s 195us/step - loss: 0.4059 - mean_absolute_error: 0.4059 - val_loss: 0.5659 - val_mean_absolute_error: 0.5659\n",
      "Epoch 7/10\n",
      "22592/22592 [==============================] - 4s 193us/step - loss: 0.3905 - mean_absolute_error: 0.3905 - val_loss: 0.5659 - val_mean_absolute_error: 0.5659\n",
      "Epoch 8/10\n",
      "22592/22592 [==============================] - 4s 198us/step - loss: 0.3723 - mean_absolute_error: 0.3723 - val_loss: 0.5724 - val_mean_absolute_error: 0.5724\n",
      "Epoch 9/10\n",
      "22592/22592 [==============================] - 4s 194us/step - loss: 0.3540 - mean_absolute_error: 0.3540 - val_loss: 0.5806 - val_mean_absolute_error: 0.5806\n",
      "Epoch 10/10\n",
      "22592/22592 [==============================] - 4s 198us/step - loss: 0.3431 - mean_absolute_error: 0.3431 - val_loss: 0.5845 - val_mean_absolute_error: 0.5845\n",
      "Completed model fit and predictions using 20000 in: 0.7833333333333333 minutes.\n",
      "Median Absolute Error: 39.49443054199219 features.\n",
      "****************************************************************************************************\n",
      "Training model using 50000 features.\n",
      "Train on 22592 samples, validate on 9683 samples\n",
      "Epoch 1/10\n"
     ]
    },
    {
     "name": "stdout",
     "output_type": "stream",
     "text": [
      "22592/22592 [==============================] - 11s 469us/step - loss: 0.9720 - mean_absolute_error: 0.9720 - val_loss: 0.6274 - val_mean_absolute_error: 0.6274\n",
      "Epoch 2/10\n",
      "22592/22592 [==============================] - 11s 471us/step - loss: 0.5549 - mean_absolute_error: 0.5549 - val_loss: 0.5788 - val_mean_absolute_error: 0.5788\n",
      "Epoch 3/10\n",
      "22592/22592 [==============================] - 10s 450us/step - loss: 0.4602 - mean_absolute_error: 0.4602 - val_loss: 0.5534 - val_mean_absolute_error: 0.5534\n",
      "Epoch 4/10\n",
      "22592/22592 [==============================] - 10s 455us/step - loss: 0.3989 - mean_absolute_error: 0.3989 - val_loss: 0.5513 - val_mean_absolute_error: 0.5513\n",
      "Epoch 5/10\n",
      "22592/22592 [==============================] - 10s 437us/step - loss: 0.3531 - mean_absolute_error: 0.3531 - val_loss: 0.5498 - val_mean_absolute_error: 0.5498\n",
      "Epoch 6/10\n",
      "22592/22592 [==============================] - 10s 441us/step - loss: 0.3212 - mean_absolute_error: 0.3212 - val_loss: 0.5514 - val_mean_absolute_error: 0.5514\n",
      "Epoch 7/10\n",
      "22592/22592 [==============================] - 10s 446us/step - loss: 0.2950 - mean_absolute_error: 0.2950 - val_loss: 0.5563 - val_mean_absolute_error: 0.5563\n",
      "Epoch 8/10\n",
      "22592/22592 [==============================] - 10s 447us/step - loss: 0.2730 - mean_absolute_error: 0.2730 - val_loss: 0.5637 - val_mean_absolute_error: 0.5637\n",
      "Epoch 9/10\n",
      "22592/22592 [==============================] - 10s 440us/step - loss: 0.2534 - mean_absolute_error: 0.2534 - val_loss: 0.5715 - val_mean_absolute_error: 0.5715\n",
      "Epoch 10/10\n",
      "22592/22592 [==============================] - 10s 447us/step - loss: 0.2401 - mean_absolute_error: 0.2401 - val_loss: 0.5710 - val_mean_absolute_error: 0.5710\n",
      "Completed model fit and predictions using 50000 in: 1.7666666666666666 minutes.\n",
      "Median Absolute Error: 39.42665100097656 features.\n",
      "****************************************************************************************************\n",
      "Training model using 100000 features.\n",
      "Train on 22592 samples, validate on 9683 samples\n",
      "Epoch 1/10\n",
      "22592/22592 [==============================] - 20s 887us/step - loss: 0.8920 - mean_absolute_error: 0.8920 - val_loss: 0.6045 - val_mean_absolute_error: 0.6045\n",
      "Epoch 2/10\n",
      " 1600/22592 [=>............................] - ETA: 13s - loss: 0.5277 - mean_absolute_error: 0.5277"
     ]
    }
   ],
   "source": [
    "from sklearn.metrics import median_absolute_error\n",
    "filterwarnings(\"ignore\")\n",
    "\n",
    "n_features_list = [300,5000,10000,20000,50000,100000,200000,400000,500000]\n",
    "mae_list = []\n",
    "time_list = []\n",
    "\n",
    "for n_features in n_features_list:\n",
    "    print(\"Training model using \"+ str(n_features)+ \" features.\")\n",
    "    \n",
    "    # Testing feature selection based on training set\n",
    "    Xt = SelectKBest(f_regression,n_features).fit(X_train_trans_NNet,y_train).transform(X_train_trans_NNet)\n",
    "    Xv = SelectKBest(f_regression,n_features).fit(X_train_trans_NNet,y_train).transform(X_val_trans_NNet)\n",
    "\n",
    "    start = datetime.datetime.now()\n",
    "    \n",
    "    # Fixed model structure \n",
    "    from keras import models, metrics, layers\n",
    "  \n",
    "    network1 = models.Sequential()\n",
    "    network1.add(layers.Dense(8,activation=\"relu\", input_shape = (Xt.shape[1],)))\n",
    "    network1.add(layers.Dense(16,activation=\"relu\"))\n",
    "    network1.add(layers.Dense(8,activation=\"relu\"))\n",
    "    network1.add(layers.Dense(1))\n",
    "    network1.compile(optimizer= \"adam\", loss= \"mean_absolute_error\", metrics= [metrics.mean_absolute_error])\n",
    "    history_net1 = network1.fit(Xt,np.log(y_train),  \n",
    "                                 epochs=10,batch_size=200,validation_split= 0.3)\n",
    "    preds = network1.predict(Xv)\n",
    "\n",
    "    # Out-of-box performance using validation set\n",
    "    mae = median_absolute_error(y_val,np.exp(preds))\n",
    "\n",
    "    end = datetime.datetime.now()\n",
    "    \n",
    "    mae_list.append(mae)\n",
    "    time_list.append((end-start).seconds/60)\n",
    "\n",
    "    print(\"Completed model fit and predictions using \"+ str(n_features) + \" in: \" + str((end-start).seconds/60) + \" minutes.\")\n",
    "    print(\"Median Absolute Error: \"+ str(mae) + \" features.\")\n",
    "    print(\"*\" * 100)\n"
   ]
  },
  {
   "cell_type": "markdown",
   "metadata": {},
   "source": [
    "### Bechmark Neural Networks\n"
   ]
  },
  {
   "cell_type": "code",
   "execution_count": 31,
   "metadata": {},
   "outputs": [
    {
     "name": "stdout",
     "output_type": "stream",
     "text": [
      "Train on 22592 samples, validate on 9683 samples\n",
      "Epoch 1/10\n",
      "22592/22592 [==============================] - 3s 127us/step - loss: 0.9452 - mean_absolute_error: 0.9452 - val_loss: 0.6251 - val_mean_absolute_error: 0.6251\n",
      "Epoch 2/10\n",
      "22592/22592 [==============================] - 3s 113us/step - loss: 0.5800 - mean_absolute_error: 0.5800 - val_loss: 0.5727 - val_mean_absolute_error: 0.5727\n",
      "Epoch 3/10\n",
      "22592/22592 [==============================] - 3s 113us/step - loss: 0.5234 - mean_absolute_error: 0.5234 - val_loss: 0.5579 - val_mean_absolute_error: 0.5579\n",
      "Epoch 4/10\n",
      "22592/22592 [==============================] - 2s 110us/step - loss: 0.4948 - mean_absolute_error: 0.4948 - val_loss: 0.5657 - val_mean_absolute_error: 0.5657\n",
      "Epoch 5/10\n",
      "22592/22592 [==============================] - 3s 114us/step - loss: 0.4791 - mean_absolute_error: 0.4791 - val_loss: 0.5541 - val_mean_absolute_error: 0.5541\n",
      "Epoch 6/10\n",
      "22592/22592 [==============================] - 3s 114us/step - loss: 0.4658 - mean_absolute_error: 0.4658 - val_loss: 0.5580 - val_mean_absolute_error: 0.5580\n",
      "Epoch 7/10\n",
      "22592/22592 [==============================] - 3s 113us/step - loss: 0.4521 - mean_absolute_error: 0.4521 - val_loss: 0.5594 - val_mean_absolute_error: 0.5594\n",
      "Epoch 8/10\n",
      "22592/22592 [==============================] - 3s 112us/step - loss: 0.4433 - mean_absolute_error: 0.4433 - val_loss: 0.5606 - val_mean_absolute_error: 0.5606\n",
      "Epoch 9/10\n",
      "22592/22592 [==============================] - 3s 115us/step - loss: 0.4453 - mean_absolute_error: 0.4453 - val_loss: 0.5776 - val_mean_absolute_error: 0.5776\n",
      "Epoch 10/10\n",
      "22592/22592 [==============================] - 3s 113us/step - loss: 0.4294 - mean_absolute_error: 0.4294 - val_loss: 0.5600 - val_mean_absolute_error: 0.5600\n"
     ]
    }
   ],
   "source": [
    "from keras import models, metrics, layers\n",
    "# Note that csr type of sparse matrix runs significantly faster in keras neural network implementation\n",
    "\n",
    "network1 = models.Sequential()\n",
    "network1.add(layers.Dense(16,activation=\"relu\", input_shape = (X_train_trans_NNet.shape[1],)))\n",
    "network1.add(layers.Dense(16,activation=\"relu\"))\n",
    "network1.add(layers.Dense(16,activation=\"relu\"))\n",
    "network1.add(layers.Dense(16,activation=\"relu\"))\n",
    "network1.add(layers.Dense(1))\n",
    "network1.compile(optimizer= \"adam\", loss= \"mean_absolute_error\", metrics= [metrics.mean_absolute_error])\n",
    "history_net1 = network1.fit(X_train_trans_NNet,np.log(y_train),  \n",
    "                             epochs=10,batch_size=200,validation_split= 0.3)"
   ]
  },
  {
   "cell_type": "code",
   "execution_count": 32,
   "metadata": {},
   "outputs": [
    {
     "name": "stdout",
     "output_type": "stream",
     "text": [
      "Median Absolute Error:  38.14117431640625\n"
     ]
    }
   ],
   "source": [
    "from sklearn.metrics import median_absolute_error\n",
    "preds = network1.predict(X_val_trans_NNet)\n",
    "\n",
    "# Out-of-box performance using validation set\n",
    "mae = median_absolute_error(y_val,np.exp(preds))\n",
    "\n",
    "print(\"Median Absolute Error: \", str(mae))"
   ]
  },
  {
   "cell_type": "code",
   "execution_count": 27,
   "metadata": {},
   "outputs": [],
   "source": [
    "# Bechmark model performance on validation set plotted\n",
    "def plot_performance(true, preds, model_name):\n",
    "    import matplotlib.pyplot as plt\n",
    "    import numpy as np\n",
    "    from sklearn.metrics import median_absolute_error \n",
    "    mae = median_absolute_error(true,np.exp(preds))\n",
    "    plt.scatter(x = np.exp(preds), y = true, c = 'blue', s = 3, alpha = 0.2)\n",
    "    plt.plot([0,1200],[0,1200], \"--k\")\n",
    "    plt.xlabel(\"Predictions\")\n",
    "    plt.ylabel(\"True targets\")\n",
    "    plt.text(0,1100, r\"MAE = %.2f\"%(mae))\n",
    "    plt.title(\"Predictive performance of \"+ model_name + \" model\" )"
   ]
  },
  {
   "cell_type": "code",
   "execution_count": 33,
   "metadata": {},
   "outputs": [
    {
     "data": {
      "image/png": "[encoded data removed]",
      "text/plain": [
       "<matplotlib.figure.Figure at 0x26f8b701e80>"
      ]
     },
     "metadata": {},
     "output_type": "display_data"
    }
   ],
   "source": [
    "plot_performance(true= y_val, preds= preds, model_name= \"network1\")"
   ]
  }
 ],
 "metadata": {
  "kernelspec": {
   "display_name": "Python 3",
   "language": "python",
   "name": "python3"
  },
  "language_info": {
   "codemirror_mode": {
    "name": "ipython",
    "version": 3
   },
   "file_extension": ".py",
   "mimetype": "text/x-python",
   "name": "python",
   "nbconvert_exporter": "python",
   "pygments_lexer": "ipython3",
   "version": "3.6.4"
  }
 },
 "nbformat": 4,
 "nbformat_minor": 2
}
