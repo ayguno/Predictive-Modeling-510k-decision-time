{
 "cells": [
  {
   "cell_type": "markdown",
   "metadata": {},
   "source": [
    "# Introduction\n",
    "\n",
    "We will start by holding out a validation data set, and inspect its representativeness. We will lock this data set and use for all models we will train for this project. Afterwards, we will establish our data processing pipeline, including special utility functions we will need. Our goal is to establish the pipeline structure, find the optimal number of features to be included, get a brief idea about the performance of different types of untuned models, finally process both training and validation sets, and finally pickle both processed data sets and the pipeline itself.\n",
    "\n",
    "# Partition training and validation data sets"
   ]
  },
  {
   "cell_type": "code",
   "execution_count": 1,
   "metadata": {},
   "outputs": [],
   "source": [
    "# Write/read disk directory\n",
    "disk = \"/Volumes/Iomega_HDD/2016/Data science/Predictive-Modeling-510k-decision-time/\"\n",
    "import pandas as pd\n",
    "import numpy as np\n",
    "import pickle\n",
    "from sklearn.model_selection import train_test_split\n",
    "processed510kdata = pd.read_csv(disk+\"processed510kdata.csv\")"
   ]
  },
  {
   "cell_type": "code",
   "execution_count": 2,
   "metadata": {},
   "outputs": [
    {
     "data": {
      "text/html": [
       "<div>\n",
       "<style>\n",
       "    .dataframe thead tr:only-child th {\n",
       "        text-align: right;\n",
       "    }\n",
       "\n",
       "    .dataframe thead th {\n",
       "        text-align: left;\n",
       "    }\n",
       "\n",
       "    .dataframe tbody tr th {\n",
       "        vertical-align: top;\n",
       "    }\n",
       "</style>\n",
       "<table border=\"1\" class=\"dataframe\">\n",
       "  <thead>\n",
       "    <tr style=\"text-align: right;\">\n",
       "      <th></th>\n",
       "      <th>KNUMBER</th>\n",
       "      <th>DECISIONTIME</th>\n",
       "      <th>APPLICANT_PRIOR_CLEARANCE_TO_DATE</th>\n",
       "      <th>DEVICENAME_PRIOR_CLEARANCE_TO_DATE</th>\n",
       "      <th>TEXT_FEATURES</th>\n",
       "    </tr>\n",
       "  </thead>\n",
       "  <tbody>\n",
       "    <tr>\n",
       "      <th>0</th>\n",
       "      <td>K170001</td>\n",
       "      <td>150</td>\n",
       "      <td>3</td>\n",
       "      <td>1</td>\n",
       "      <td>acuity 85 oprifocon a rigid gas permeable cont...</td>\n",
       "    </tr>\n",
       "    <tr>\n",
       "      <th>1</th>\n",
       "      <td>K170003</td>\n",
       "      <td>227</td>\n",
       "      <td>1</td>\n",
       "      <td>1</td>\n",
       "      <td>zip 4 skin closure device stateca countrycodeu...</td>\n",
       "    </tr>\n",
       "    <tr>\n",
       "      <th>2</th>\n",
       "      <td>K170005</td>\n",
       "      <td>352</td>\n",
       "      <td>1</td>\n",
       "      <td>1</td>\n",
       "      <td>flex monoclonal mouse antihuman progesterone r...</td>\n",
       "    </tr>\n",
       "    <tr>\n",
       "      <th>3</th>\n",
       "      <td>K170007</td>\n",
       "      <td>148</td>\n",
       "      <td>4</td>\n",
       "      <td>1</td>\n",
       "      <td>acuity 58 enflufocon b rigid gas permeable con...</td>\n",
       "    </tr>\n",
       "    <tr>\n",
       "      <th>4</th>\n",
       "      <td>K170008</td>\n",
       "      <td>56</td>\n",
       "      <td>50</td>\n",
       "      <td>1</td>\n",
       "      <td>osteosite bone biopsy needle osteosite bone bi...</td>\n",
       "    </tr>\n",
       "  </tbody>\n",
       "</table>\n",
       "</div>"
      ],
      "text/plain": [
       "   KNUMBER  DECISIONTIME  APPLICANT_PRIOR_CLEARANCE_TO_DATE  \\\n",
       "0  K170001           150                                  3   \n",
       "1  K170003           227                                  1   \n",
       "2  K170005           352                                  1   \n",
       "3  K170007           148                                  4   \n",
       "4  K170008            56                                 50   \n",
       "\n",
       "   DEVICENAME_PRIOR_CLEARANCE_TO_DATE  \\\n",
       "0                                   1   \n",
       "1                                   1   \n",
       "2                                   1   \n",
       "3                                   1   \n",
       "4                                   1   \n",
       "\n",
       "                                       TEXT_FEATURES  \n",
       "0  acuity 85 oprifocon a rigid gas permeable cont...  \n",
       "1  zip 4 skin closure device stateca countrycodeu...  \n",
       "2  flex monoclonal mouse antihuman progesterone r...  \n",
       "3  acuity 58 enflufocon b rigid gas permeable con...  \n",
       "4  osteosite bone biopsy needle osteosite bone bi...  "
      ]
     },
     "execution_count": 2,
     "metadata": {},
     "output_type": "execute_result"
    }
   ],
   "source": [
    "processed510kdata.head()"
   ]
  },
  {
   "cell_type": "code",
   "execution_count": 3,
   "metadata": {},
   "outputs": [
    {
     "name": "stdout",
     "output_type": "stream",
     "text": [
      "<class 'pandas.core.frame.DataFrame'>\n",
      "RangeIndex: 24491 entries, 0 to 24490\n",
      "Data columns (total 5 columns):\n",
      "KNUMBER                               24491 non-null object\n",
      "DECISIONTIME                          24491 non-null int64\n",
      "APPLICANT_PRIOR_CLEARANCE_TO_DATE     24491 non-null int64\n",
      "DEVICENAME_PRIOR_CLEARANCE_TO_DATE    24491 non-null int64\n",
      "TEXT_FEATURES                         24491 non-null object\n",
      "dtypes: int64(3), object(2)\n",
      "memory usage: 956.8+ KB\n"
     ]
    }
   ],
   "source": [
    "processed510kdata.info()"
   ]
  },
  {
   "cell_type": "code",
   "execution_count": 4,
   "metadata": {},
   "outputs": [
    {
     "data": {
      "image/png": "[encoded data removed]",
      "text/plain": [
       "<matplotlib.figure.Figure at 0x1105b2f28>"
      ]
     },
     "metadata": {},
     "output_type": "display_data"
    }
   ],
   "source": [
    "import matplotlib.pyplot as plt\n",
    "processed510kdata.DECISIONTIME.hist(bins=100)\n",
    "plt.show()"
   ]
  },
  {
   "cell_type": "code",
   "execution_count": 5,
   "metadata": {},
   "outputs": [],
   "source": [
    "X = processed510kdata.drop(\"DECISIONTIME\", axis=1)\n",
    "y = processed510kdata.DECISIONTIME\n",
    "\n",
    "X_train, X_val, y_train, y_val = train_test_split(X, y, test_size=0.33, random_state=42)"
   ]
  },
  {
   "cell_type": "code",
   "execution_count": 6,
   "metadata": {},
   "outputs": [
    {
     "name": "stdout",
     "output_type": "stream",
     "text": [
      "<class 'pandas.core.frame.DataFrame'>\n",
      "Int64Index: 16408 entries, 19500 to 23654\n",
      "Data columns (total 4 columns):\n",
      "KNUMBER                               16408 non-null object\n",
      "APPLICANT_PRIOR_CLEARANCE_TO_DATE     16408 non-null int64\n",
      "DEVICENAME_PRIOR_CLEARANCE_TO_DATE    16408 non-null int64\n",
      "TEXT_FEATURES                         16408 non-null object\n",
      "dtypes: int64(2), object(2)\n",
      "memory usage: 640.9+ KB\n"
     ]
    }
   ],
   "source": [
    "# With currently available data, this is about 16.4K samples. We will increase this set as more data becomes available\n",
    "X_train.info()"
   ]
  },
  {
   "cell_type": "code",
   "execution_count": 7,
   "metadata": {},
   "outputs": [
    {
     "name": "stdout",
     "output_type": "stream",
     "text": [
      "<class 'pandas.core.frame.DataFrame'>\n",
      "Int64Index: 8083 entries, 20070 to 6014\n",
      "Data columns (total 4 columns):\n",
      "KNUMBER                               8083 non-null object\n",
      "APPLICANT_PRIOR_CLEARANCE_TO_DATE     8083 non-null int64\n",
      "DEVICENAME_PRIOR_CLEARANCE_TO_DATE    8083 non-null int64\n",
      "TEXT_FEATURES                         8083 non-null object\n",
      "dtypes: int64(2), object(2)\n",
      "memory usage: 315.7+ KB\n"
     ]
    }
   ],
   "source": [
    "# This is the validation set we will lock down along with the target (y) values. \n",
    "# KNUMBER is kept to identifiy and remove these data points from the growing training set in future.\n",
    "X_val.info()"
   ]
  },
  {
   "cell_type": "code",
   "execution_count": 8,
   "metadata": {},
   "outputs": [
    {
     "data": {
      "image/png": "[encoded data removed]",
      "text/plain": [
       "<matplotlib.figure.Figure at 0x1108c85f8>"
      ]
     },
     "metadata": {},
     "output_type": "display_data"
    }
   ],
   "source": [
    "y_train.hist(bins=100)\n",
    "plt.show()"
   ]
  },
  {
   "cell_type": "code",
   "execution_count": 9,
   "metadata": {},
   "outputs": [
    {
     "data": {
      "image/png": "[encoded data removed]",
      "text/plain": [
       "<matplotlib.figure.Figure at 0x110f30908>"
      ]
     },
     "metadata": {},
     "output_type": "display_data"
    }
   ],
   "source": [
    "y_val.hist(bins=100)\n",
    "plt.show()"
   ]
  },
  {
   "cell_type": "code",
   "execution_count": 10,
   "metadata": {},
   "outputs": [
    {
     "data": {
      "text/html": [
       "<div>\n",
       "<style>\n",
       "    .dataframe thead tr:only-child th {\n",
       "        text-align: right;\n",
       "    }\n",
       "\n",
       "    .dataframe thead th {\n",
       "        text-align: left;\n",
       "    }\n",
       "\n",
       "    .dataframe tbody tr th {\n",
       "        vertical-align: top;\n",
       "    }\n",
       "</style>\n",
       "<table border=\"1\" class=\"dataframe\">\n",
       "  <thead>\n",
       "    <tr style=\"text-align: right;\">\n",
       "      <th></th>\n",
       "      <th>count</th>\n",
       "      <th>mean</th>\n",
       "      <th>std</th>\n",
       "      <th>min</th>\n",
       "      <th>25%</th>\n",
       "      <th>50%</th>\n",
       "      <th>75%</th>\n",
       "      <th>max</th>\n",
       "    </tr>\n",
       "  </thead>\n",
       "  <tbody>\n",
       "    <tr>\n",
       "      <th>DECISIONTIME</th>\n",
       "      <td>16408.0</td>\n",
       "      <td>143.388774</td>\n",
       "      <td>103.837724</td>\n",
       "      <td>2.0</td>\n",
       "      <td>69.0</td>\n",
       "      <td>117.0</td>\n",
       "      <td>200.0</td>\n",
       "      <td>1213.0</td>\n",
       "    </tr>\n",
       "    <tr>\n",
       "      <th>DECISIONTIME</th>\n",
       "      <td>8083.0</td>\n",
       "      <td>144.768155</td>\n",
       "      <td>106.264819</td>\n",
       "      <td>3.0</td>\n",
       "      <td>70.0</td>\n",
       "      <td>118.0</td>\n",
       "      <td>198.0</td>\n",
       "      <td>1029.0</td>\n",
       "    </tr>\n",
       "  </tbody>\n",
       "</table>\n",
       "</div>"
      ],
      "text/plain": [
       "                count        mean         std  min   25%    50%    75%     max\n",
       "DECISIONTIME  16408.0  143.388774  103.837724  2.0  69.0  117.0  200.0  1213.0\n",
       "DECISIONTIME   8083.0  144.768155  106.264819  3.0  70.0  118.0  198.0  1029.0"
      ]
     },
     "execution_count": 10,
     "metadata": {},
     "output_type": "execute_result"
    }
   ],
   "source": [
    "pd.DataFrame([y_train.describe(),y_val.describe()])"
   ]
  },
  {
   "cell_type": "markdown",
   "metadata": {},
   "source": [
    "The sampling of the validation set seems to be sufficiently random, targets exhibit similar distributions in both training and validation sets. The outliers seem to be also represented in both cases. "
   ]
  },
  {
   "cell_type": "markdown",
   "metadata": {},
   "source": [
    "\n",
    "## Store data sets for modeling\n",
    "\n",
    "We will store these data sets in the disk."
   ]
  },
  {
   "cell_type": "code",
   "execution_count": 13,
   "metadata": {},
   "outputs": [],
   "source": [
    "disk = \"/Volumes/Iomega_HDD/2016/Data science/Predictive-Modeling-510k-decision-time/\"\n",
    "# Validation set (Locked down)\n",
    "with open(disk+\"X_val.pkl\",\"wb\") as f:\n",
    "    pickle.dump(X_val,f)\n",
    "\n",
    "with open(disk+\"y_val.pkl\",\"wb\") as f:\n",
    "    pickle.dump(y_val,f)"
   ]
  },
  {
   "cell_type": "code",
   "execution_count": 14,
   "metadata": {},
   "outputs": [],
   "source": [
    "# Training set (expected to grow in future)\n",
    "with open(disk+\"X_train.pkl\",\"wb\") as f:\n",
    "    pickle.dump(X_train,f)\n",
    "\n",
    "with open(disk+\"y_train.pkl\",\"wb\") as f:\n",
    "    pickle.dump(y_train,f)"
   ]
  },
  {
   "cell_type": "markdown",
   "metadata": {},
   "source": [
    "# Feature Extraction Pipeline"
   ]
  },
  {
   "cell_type": "code",
   "execution_count": 2,
   "metadata": {},
   "outputs": [],
   "source": [
    "from sklearn.pipeline import Pipeline, FeatureUnion\n",
    "from sklearn.preprocessing import MaxAbsScaler,FunctionTransformer, Imputer\n",
    "from sklearn.feature_selection import SelectKBest, f_regression\n",
    "from sklearn.feature_extraction.text import HashingVectorizer\n",
    "\n",
    "# First we build two utility functions to parse numeric and text data, \n",
    "# and wrap them using FunctionTransformer, so that they can be integrated into a sklearn pipeline:\n",
    "def text_columns(X_train):\n",
    "    return X_train.TEXT_FEATURES\n",
    "\n",
    "def numeric_columns(X_train):\n",
    "    numeric = ['APPLICANT_PRIOR_CLEARANCE_TO_DATE','DEVICENAME_PRIOR_CLEARANCE_TO_DATE']\n",
    "    temp = X_train[numeric]\n",
    "    return temp\n",
    "\n",
    "get_numeric_data = FunctionTransformer(func = numeric_columns, validate=False) \n",
    "get_text_data = FunctionTransformer(func = text_columns,validate=False) \n",
    "# Note how we avoid putting any arguments into text_columns and numeric_columns\n",
    "\n",
    "# We also need to create our regex token pattern to use in HashingVectorizer. \n",
    "TOKENS_ALPHANUMERIC = '[A-Za-z0-9]+(?=\\\\s+)'   \n",
    "#Note this regex will match either a whitespace or a punctuation to tokenize the string vector on these preferences  \n",
    "\n",
    "# We also need to redefine the default feature selection function for regression to properly place into our pipeline:\n",
    "def f_regression(X,Y):\n",
    "    import sklearn\n",
    "    return sklearn.feature_selection.f_regression(X,Y,center = False) # default is center = True\n",
    "\n",
    "# Function to add feature interactions in Sparse matrix\n",
    "# From: https://github.com/drivendataorg/box-plots-sklearn/blob/master/src/features/SparseInteractions.py\n",
    "from itertools import combinations\n",
    "\n",
    "import numpy as np\n",
    "from scipy import sparse\n",
    "from sklearn.base import BaseEstimator, TransformerMixin\n",
    "\n",
    "class SparseInteractions(BaseEstimator, TransformerMixin):\n",
    "    def __init__(self, degree=2, feature_name_separator=\"_\"):\n",
    "        self.degree = degree\n",
    "        self.feature_name_separator = feature_name_separator\n",
    "\n",
    "    def fit(self, X, y=None):\n",
    "        return self\n",
    "\n",
    "    def transform(self, X):\n",
    "        if not sparse.isspmatrix_csc(X):\n",
    "            X = sparse.csc_matrix(X)\n",
    "\n",
    "        if hasattr(X, \"columns\"):\n",
    "            self.orig_col_names = X.columns\n",
    "        else:\n",
    "            self.orig_col_names = np.array([str(i) for i in range(X.shape[1])])\n",
    "\n",
    "        spi = self._create_sparse_interactions(X)\n",
    "        return spi\n",
    "\n",
    "    def get_feature_names(self):\n",
    "        return self.feature_names\n",
    "\n",
    "    def _create_sparse_interactions(self, X):\n",
    "        out_mat = []\n",
    "        self.feature_names = self.orig_col_names.tolist()\n",
    "\n",
    "        for sub_degree in range(2, self.degree + 1):\n",
    "            for col_ixs in combinations(range(X.shape[1]), sub_degree):\n",
    "                # add name for new column\n",
    "                name = self.feature_name_separator.join(self.orig_col_names[list(col_ixs)])\n",
    "                self.feature_names.append(name)\n",
    "\n",
    "                # get column multiplications value\n",
    "                out = X[:, col_ixs[0]]\n",
    "                for j in col_ixs[1:]:\n",
    "                    out = out.multiply(X[:, j])\n",
    "\n",
    "                out_mat.append(out)\n",
    "\n",
    "        return sparse.hstack([X] + out_mat)\n",
    "\n",
    "# Definition of the actual pipeline\n",
    "#  We will try to optimize for these values in feature selection\n",
    "n_tokens = 400\n",
    "n_features = 400\n",
    "\n",
    "pipeline510k = Pipeline([\n",
    "    \n",
    "    (\"union\",FeatureUnion( # Note that FeatureUnion() accepts list of tuples, the first half of each tuple is the name of the transformer\n",
    "        \n",
    "        transformer_list = [\n",
    "            \n",
    "            (\"numeric_subpipeline\", Pipeline([ # Note we have subpipeline branches inside the main pipeline\n",
    "                \n",
    "                (\"parser\",get_numeric_data), # Step1: parse the numeric data (note how we avoid () when using FunctionTransformer objects)\n",
    "                (\"imputer\",Imputer()), # Step2: impute missing values (we don't expect any)\n",
    "            \n",
    "            ])), # Branching point of the FeatureUnion\n",
    "            \n",
    "            (\"text_subpipeline\",Pipeline([\n",
    "            \n",
    "                (\"parser\",get_text_data), # Step1: parse the text data \n",
    "                (\"tokenizer\",HashingVectorizer(token_pattern= TOKENS_ALPHANUMERIC,\n",
    "                                             stop_words = \"english\",# We will remove English stop words before tokenization\n",
    "                                             ngram_range = (1,1), # We will tokenize to single words only\n",
    "                                             non_negative=True, norm=None, binary=True  \n",
    "                                            )), # Step2: use HashingVectorizer for automated tokenization and feature extraction\n",
    "                                            ('dim_red1', SelectKBest(f_regression, k = n_tokens)) # Step3: use dimension reduction to select n_tokens of best features\n",
    "                \n",
    "            ]))\n",
    "        ]\n",
    "    \n",
    "    )),# Branching point to the main pipeline: at this point all features are numeric\n",
    "    \n",
    "    (\"int\", SparseInteractions(degree=2)), # Add polynomial interaction terms \n",
    "    (\"scaler\",MaxAbsScaler()), # Scale the features\n",
    "    ('dim_red2', SelectKBest(f_regression, k =n_features)) # Add another dimension reduction step at the end\n",
    "])\n",
    "\n",
    "# Note that we will explore feature selection strategies to determine the number of features to keep after \n",
    "# tokenization and feature union"
   ]
  },
  {
   "cell_type": "markdown",
   "metadata": {},
   "source": [
    "# Feature selection parameter optimization\n",
    "\n",
    "At this point we will try;\n",
    "\n",
    "- to understand the least number of features we can select to maximize the predictive performance.\n",
    "- to develop an intuition for performance of different classes of algorithms in this dataset and establish some benchmarks, before attempting to perform hyperparameter optimization.\n"
   ]
  },
  {
   "cell_type": "code",
   "execution_count": 1,
   "metadata": {},
   "outputs": [],
   "source": [
    "# Loading training and validation features and target labels were prepared before:\n",
    "disk = \"/Volumes/Iomega_HDD/2016/Data science/Predictive-Modeling-510k-decision-time/\"\n",
    "import pickle\n",
    "with open(disk+\"X_train.pkl\",\"rb\") as f:\n",
    "    X_train = pickle.load(f)   \n",
    "with open(disk+\"y_train.pkl\",\"rb\") as f:\n",
    "    y_train = pickle.load(f)\n",
    "        \n",
    "with open(disk+\"X_val.pkl\",\"rb\") as f:\n",
    "    X_val = pickle.load(f)       \n",
    "with open(disk+\"y_val.pkl\",\"rb\") as f:\n",
    "    y_val = pickle.load(f)  "
   ]
  },
  {
   "cell_type": "code",
   "execution_count": 49,
   "metadata": {},
   "outputs": [],
   "source": [
    "# Write functions to streamline regressors and pipeline tuning\n",
    "import pickle\n",
    "from scipy.sparse import vstack\n",
    "from sklearn.linear_model import Ridge,SGDRegressor, ElasticNet\n",
    "from sklearn.ensemble import AdaBoostRegressor\n",
    "from sklearn.kernel_ridge import KernelRidge\n",
    "from xgboost import XGBRegressor\n",
    "from sklearn.metrics import mean_squared_error\n",
    "from datetime import datetime\n",
    "import warnings\n",
    "import pandas as pd\n",
    "warnings.filterwarnings(\"ignore\")\n",
    "\n",
    "\n",
    "def calculate_rmse(X_val_trans,y_val,reg):\n",
    "    preds = reg.predict(X_val_trans)\n",
    "    return np.sqrt(mean_squared_error(y_true=y_val,y_pred=preds))\n",
    "\n",
    "\n",
    "\n",
    "def streamline_regressors(fpipeline,nfeatures,\n",
    "                          X_train,y_train,X_val,y_val,\n",
    "                          disk = \"/Volumes/Iomega_HDD/2016/Data science/Predictive-Modeling-510k-decision-time/\"):\n",
    "    \"\"\" We will monitor performance of different default regressors.\"\"\"\n",
    "    print(\">>> streamline_regressors: started exploring model performance using \" + str(nfeatures) + \" features.\")\n",
    "    ############################################################################\n",
    "    # Transform the training and test set using the current pipeline\n",
    "    ############################################################################\n",
    "    start = datetime.now()\n",
    "    X_train_trans = fpipeline.fit(X_train,y_train).transform(X_train)\n",
    "    process = datetime.now() - start\n",
    "    print(\" >>> streamline_regressors: fitted and transformed X_train. It took: \" + str(process.seconds/60) + \" minutes.\")\n",
    "    print(\"Shape of X_train is \" + str(X_train_trans.shape))\n",
    "    start = datetime.now()\n",
    "    X_val_trans = fpipeline.transform(X_val)\n",
    "    process = datetime.now() - start\n",
    "    print(\" >>> streamline_regressors: transformed X_val. It took: \" + str(process.seconds/60) + \" minutes.\")\n",
    "    print(\"Shape of X_val is \" + str(X_val_trans.shape))\n",
    "    #######################################################################\n",
    "    # Train different regressors report and calculate the validation rmse\n",
    "    #######################################################################\n",
    "    # Regressor dictionary\n",
    "    reg_dict = {\n",
    "        \"Ridge\": Ridge(),\n",
    "        \"KernelRidge\": KernelRidge(),\n",
    "        \"ElasticNet\": ElasticNet(),\n",
    "        \"SGDRegressor\":SGDRegressor(),\n",
    "        \"AdaBoostRegressor\":AdaBoostRegressor(n_estimators=25),\n",
    "        \"XGBRegressor\":XGBRegressor(n_estimators=25)\n",
    "    }\n",
    "    \n",
    "    # Container to collect current rmse scores\n",
    "    scores = pd.DataFrame()\n",
    "    scores[\"nfeatures\"] = pd.Series(nfeatures)\n",
    "    \n",
    "    for key,value in reg_dict.items():\n",
    "        start = datetime.now()\n",
    "        \n",
    "        reg = value\n",
    "        reg.fit(X_train_trans.toarray(),y_train)\n",
    "        val_score =calculate_rmse(X_val_trans.toarray(),y_val,reg)\n",
    "        scores[key] = pd.Series(val_score)\n",
    "        \n",
    "        process = datetime.now() - start\n",
    "               \n",
    "        print(\" >>> Completed \" +str(key) + \" regressor with a validation rmse of \"+str(val_score) + \" it took \" +str(process.seconds/60)+ \" minutes.\" )\n",
    "        print(\"*\" * 80)\n",
    "    # Return a data frame of validation rmse scores for a given number of features\n",
    "    return scores\n",
    "\n",
    "def tune_pipeline(n_features,n_tokens):\n",
    "    \"\"\"A function to help us tuning the feature selection steps.\"\"\"\n",
    "    n_tokens = n_tokens\n",
    "    n_features = n_features\n",
    "\n",
    "    pipeline510k = Pipeline([\n",
    "\n",
    "        (\"union\",FeatureUnion( # Note that FeatureUnion() accepts list of tuples, the first half of each tuple is the name of the transformer\n",
    "\n",
    "            transformer_list = [\n",
    "\n",
    "                (\"numeric_subpipeline\", Pipeline([ # Note we have subpipeline branches inside the main pipeline\n",
    "\n",
    "                    (\"parser\",get_numeric_data), # Step1: parse the numeric data (note how we avoid () when using FunctionTransformer objects)\n",
    "                    (\"imputer\",Imputer()), # Step2: impute missing values (we don't expect any)\n",
    "\n",
    "                ])), # Branching point of the FeatureUnion\n",
    "\n",
    "                (\"text_subpipeline\",Pipeline([\n",
    "\n",
    "                    (\"parser\",get_text_data), # Step1: parse the text data \n",
    "                    (\"tokenizer\",HashingVectorizer(token_pattern= TOKENS_ALPHANUMERIC,\n",
    "                                                 stop_words = \"english\",# We will remove English stop words before tokenization\n",
    "                                                 ngram_range = (1,1), # We will tokenize to single words only\n",
    "                                                 non_negative=True, norm=None, binary=True  \n",
    "                                                )), # Step2: use HashingVectorizer for automated tokenization and feature extraction\n",
    "                                                ('dim_red1', SelectKBest(f_regression, k = n_tokens)) # Step3: use dimension reduction to select n_tokens of best features\n",
    "\n",
    "                ]))\n",
    "            ]\n",
    "\n",
    "        )),# Branching point to the main pipeline: at this point all features are numeric\n",
    "\n",
    "        (\"int\", SparseInteractions(degree=2)), # Add polynomial interaction terms \n",
    "        (\"scaler\",MaxAbsScaler()), # Scale the features\n",
    "        ('dim_red2', SelectKBest(f_regression, k =n_features)) # Add another dimension reduction step at the end\n",
    "    ])\n",
    "    \n",
    "    return pipeline510k"
   ]
  },
  {
   "cell_type": "code",
   "execution_count": null,
   "metadata": {
    "scrolled": true
   },
   "outputs": [],
   "source": [
    "# We will first keep the number of tokens constant and search for number of features\n",
    "# Main loop for feature selection survey\n",
    "\n",
    "import warnings\n",
    "import pandas as pd\n",
    "warnings.filterwarnings(\"ignore\")\n",
    "\n",
    "nfeatures_list = [10,20,50,100,200,500,1000,2000,5000]\n",
    "results = pd.DataFrame(columns=[\"Ridge\", \"KernelRidge\", \"ElasticNet\", \"SGDRegressor\",\"AdaBoostRegressor\",\"XGBRegressor\"])\n",
    "\n",
    "for nfeatures in nfeatures_list:\n",
    "    # Construct the pipeline\n",
    "    pipeline510k = tune_pipeline(n_features= nfeatures,n_tokens= 400)\n",
    "    print(\"Pipeline constructed using \" + str(nfeatures) + \" best features.\")\n",
    "    \n",
    "    results = pd.concat([results, \n",
    "                         streamline_regressors(fpipeline=pipeline510k,\n",
    "                         nfeatures = nfeatures,X_train = X_train,y_train = y_train,\n",
    "                         X_val = X_val,y_val = y_val)], axis = 0)\n",
    "    # Save and update the current version of the score table\n",
    "    with open(disk+\"feature_selection_rmse.pkl\",wb) as f:\n",
    "        pickle.dump(results,f)\n",
    "        \n",
    "    print(\"Updated the score table.\" )\n",
    "    print(\"--\" * 50)"
   ]
  },
  {
   "cell_type": "code",
   "execution_count": 7,
   "metadata": {},
   "outputs": [
    {
     "name": "stdout",
     "output_type": "stream",
     "text": [
      "It took: 2.3 minutes.\n"
     ]
    }
   ],
   "source": [
    "# Testing how long it takes to transform a small batch of training data\n",
    "import warnings\n",
    "from datetime import datetime\n",
    "warnings.filterwarnings(\"ignore\")\n",
    "start = datetime.now()\n",
    "X_train_small_p = pipeline510k.fit(X_train.iloc[1:1000,],y_train[1:1000]).transform(X_train.iloc[1:100,])\n",
    "process = datetime.now() - start\n",
    "print(\"It took: \" + str(process.seconds/60) + \" minutes.\")"
   ]
  },
  {
   "cell_type": "code",
   "execution_count": 8,
   "metadata": {},
   "outputs": [
    {
     "data": {
      "text/plain": [
       "0.6133333333333333"
      ]
     },
     "execution_count": 8,
     "metadata": {},
     "output_type": "execute_result"
    }
   ],
   "source": [
    "# For a training set of 16 k samples, it will take this much hours:\n",
    "((16000/1000) * 2.3 )/60"
   ]
  },
  {
   "cell_type": "markdown",
   "metadata": {},
   "source": [
    "## Take home message\n",
    "\n",
    "The pipeline is way more computationally expensive than we can handle with our current computational capacity even when using chunks. We will not use the feature selection search we hoped to use to find the optimal number of features to include in models. Instead, we will stick with 400 tokens and 400 final features and proceed with two strategies:\n",
    "\n",
    "For both strategies we need to process our validation set and lock it down before starting the strategies below. \n",
    "\n",
    "1. **Train online algorithms using streaming data:** this is an attractive approach since we keep scraping training data and can process it in paralell. This can help us to establish some benchmark performance.\n",
    "\n",
    "2. **Accumulate training data to train other models:** While processing training data for the strategy 1, we can accumulate processed training data and save them to disk in chunks. Leter these chunks of pipeline-processed training data can be re-loaded, and combined using vstack feature of sparse matrices, to generate a single training set one streaming of the data is completed.\n",
    "\n",
    "Since additional training data is still being generated, we need to code these strategies to allow smooth processing of streaming data:\n",
    "    \n",
    "    - The code needs to filter and skip streaming data associated with validation set data points.\n",
    "    - The code also need to filter and skip streaming data associated with already processed data points. (We need to cache KNUMBERS associated with data that is already processed by the pipeline)\n",
    "    \n",
    "We need to take the advantage of KNUMBERS to skip data points that are already processed.    \n"
   ]
  },
  {
   "cell_type": "markdown",
   "metadata": {},
   "source": [
    "# Processing the validation set"
   ]
  },
  {
   "cell_type": "code",
   "execution_count": 10,
   "metadata": {},
   "outputs": [
    {
     "name": "stdout",
     "output_type": "stream",
     "text": [
      "It took: 8.483333333333333 minutes.\n"
     ]
    },
    {
     "ename": "NameError",
     "evalue": "name 'wb' is not defined",
     "output_type": "error",
     "traceback": [
      "\u001b[0;31m---------------------------------------------------------------------------\u001b[0m",
      "\u001b[0;31mNameError\u001b[0m                                 Traceback (most recent call last)",
      "\u001b[0;32m<ipython-input-10-20d5c203f1a5>\u001b[0m in \u001b[0;36m<module>\u001b[0;34m()\u001b[0m\n\u001b[1;32m      8\u001b[0m \u001b[0mprocess\u001b[0m \u001b[0;34m=\u001b[0m \u001b[0mdatetime\u001b[0m\u001b[0;34m.\u001b[0m\u001b[0mnow\u001b[0m\u001b[0;34m(\u001b[0m\u001b[0;34m)\u001b[0m \u001b[0;34m-\u001b[0m \u001b[0mstart\u001b[0m\u001b[0;34m\u001b[0m\u001b[0m\n\u001b[1;32m      9\u001b[0m \u001b[0mprint\u001b[0m\u001b[0;34m(\u001b[0m\u001b[0;34m\"It took: \"\u001b[0m \u001b[0;34m+\u001b[0m \u001b[0mstr\u001b[0m\u001b[0;34m(\u001b[0m\u001b[0mprocess\u001b[0m\u001b[0;34m.\u001b[0m\u001b[0mseconds\u001b[0m\u001b[0;34m/\u001b[0m\u001b[0;36m60\u001b[0m\u001b[0;34m)\u001b[0m \u001b[0;34m+\u001b[0m \u001b[0;34m\" minutes.\"\u001b[0m\u001b[0;34m)\u001b[0m\u001b[0;34m\u001b[0m\u001b[0m\n\u001b[0;32m---> 10\u001b[0;31m \u001b[0;32mwith\u001b[0m \u001b[0mopen\u001b[0m\u001b[0;34m(\u001b[0m\u001b[0mdisk\u001b[0m\u001b[0;34m+\u001b[0m\u001b[0;34m\"X_val.proc.pkl\"\u001b[0m\u001b[0;34m,\u001b[0m\u001b[0mwb\u001b[0m\u001b[0;34m)\u001b[0m \u001b[0;32mas\u001b[0m \u001b[0mf\u001b[0m\u001b[0;34m:\u001b[0m\u001b[0;34m\u001b[0m\u001b[0m\n\u001b[0m\u001b[1;32m     11\u001b[0m         \u001b[0mpickle\u001b[0m\u001b[0;34m.\u001b[0m\u001b[0mdump\u001b[0m\u001b[0;34m(\u001b[0m\u001b[0mX_val_proc\u001b[0m\u001b[0;34m,\u001b[0m\u001b[0mf\u001b[0m\u001b[0;34m)\u001b[0m\u001b[0;34m\u001b[0m\u001b[0m\n\u001b[1;32m     12\u001b[0m \u001b[0mprint\u001b[0m\u001b[0;34m(\u001b[0m\u001b[0;34m\"Saved the processed validation set.\"\u001b[0m\u001b[0;34m)\u001b[0m\u001b[0;34m\u001b[0m\u001b[0m\n",
      "\u001b[0;31mNameError\u001b[0m: name 'wb' is not defined"
     ]
    }
   ],
   "source": [
    "# Process the validation set and save into disk\n",
    "disk = \"/Volumes/Iomega_HDD/2016/Data science/Predictive-Modeling-510k-decision-time/\"\n",
    "import warnings\n",
    "from datetime import datetime\n",
    "warnings.filterwarnings(\"ignore\")\n",
    "start = datetime.now()\n",
    "X_val_proc = pipeline510k.fit(X_val,y_val).transform(X_val)\n",
    "process = datetime.now() - start\n",
    "print(\"It took: \" + str(process.seconds/60) + \" minutes.\")\n",
    "      "
   ]
  },
  {
   "cell_type": "code",
   "execution_count": 11,
   "metadata": {},
   "outputs": [
    {
     "name": "stdout",
     "output_type": "stream",
     "text": [
      "Saved the processed validation set.\n"
     ]
    }
   ],
   "source": [
    "with open(disk+\"X_val.proc.pkl\",\"wb\") as f:\n",
    "        pickle.dump(X_val_proc,f)\n",
    "print(\"Saved the processed validation set.\")  "
   ]
  },
  {
   "cell_type": "code",
   "execution_count": 12,
   "metadata": {},
   "outputs": [
    {
     "data": {
      "text/plain": [
       "(8083, 400)"
      ]
     },
     "execution_count": 12,
     "metadata": {},
     "output_type": "execute_result"
    }
   ],
   "source": [
    "X_val_proc.shape"
   ]
  },
  {
   "cell_type": "code",
   "execution_count": 13,
   "metadata": {},
   "outputs": [
    {
     "data": {
      "text/html": [
       "<div>\n",
       "<style>\n",
       "    .dataframe thead tr:only-child th {\n",
       "        text-align: right;\n",
       "    }\n",
       "\n",
       "    .dataframe thead th {\n",
       "        text-align: left;\n",
       "    }\n",
       "\n",
       "    .dataframe tbody tr th {\n",
       "        vertical-align: top;\n",
       "    }\n",
       "</style>\n",
       "<table border=\"1\" class=\"dataframe\">\n",
       "  <thead>\n",
       "    <tr style=\"text-align: right;\">\n",
       "      <th></th>\n",
       "      <th>chunk</th>\n",
       "      <th>nsamples</th>\n",
       "      <th>SGDRegressor</th>\n",
       "      <th>PassiveAggressiveRegressor</th>\n",
       "    </tr>\n",
       "  </thead>\n",
       "  <tbody>\n",
       "    <tr>\n",
       "      <th>0</th>\n",
       "      <td>1</td>\n",
       "      <td>100</td>\n",
       "      <td>108.009375</td>\n",
       "      <td>154.202588</td>\n",
       "    </tr>\n",
       "    <tr>\n",
       "      <th>0</th>\n",
       "      <td>2</td>\n",
       "      <td>200</td>\n",
       "      <td>123.788000</td>\n",
       "      <td>116.027855</td>\n",
       "    </tr>\n",
       "    <tr>\n",
       "      <th>0</th>\n",
       "      <td>3</td>\n",
       "      <td>300</td>\n",
       "      <td>118.453345</td>\n",
       "      <td>120.242843</td>\n",
       "    </tr>\n",
       "    <tr>\n",
       "      <th>0</th>\n",
       "      <td>4</td>\n",
       "      <td>400</td>\n",
       "      <td>114.274589</td>\n",
       "      <td>157.438009</td>\n",
       "    </tr>\n",
       "    <tr>\n",
       "      <th>0</th>\n",
       "      <td>5</td>\n",
       "      <td>500</td>\n",
       "      <td>110.064550</td>\n",
       "      <td>199.993346</td>\n",
       "    </tr>\n",
       "  </tbody>\n",
       "</table>\n",
       "</div>"
      ],
      "text/plain": [
       "  chunk nsamples  SGDRegressor  PassiveAggressiveRegressor\n",
       "0     1      100    108.009375                  154.202588\n",
       "0     2      200    123.788000                  116.027855\n",
       "0     3      300    118.453345                  120.242843\n",
       "0     4      400    114.274589                  157.438009\n",
       "0     5      500    110.064550                  199.993346"
      ]
     },
     "execution_count": 13,
     "metadata": {},
     "output_type": "execute_result"
    }
   ],
   "source": [
    "with open(disk+\"processed_chunks/results.pkl\", \"rb\") as f:\n",
    "        results = pickle.load(f)\n",
    "results.head() "
   ]
  },
  {
   "cell_type": "code",
   "execution_count": 93,
   "metadata": {},
   "outputs": [
    {
     "data": {
      "image/png": "[encoded data removed]",
      "text/plain": [
       "<matplotlib.figure.Figure at 0x1a1905cd30>"
      ]
     },
     "metadata": {},
     "output_type": "display_data"
    }
   ],
   "source": [
    "with open(disk+\"processed_chunks/results.pkl\", \"rb\") as f:\n",
    "        results = pickle.load(f)\n",
    "import matplotlib.pyplot as plt\n",
    "plt.plot(\"nsamples\",\"SGD\",label = \"SGD\", data= results, color = \"r\")\n",
    "plt.plot(\"nsamples\",\"PAGG\",label = \"PassAgg\",data= results, color =\"b\")\n",
    "#plt.ylim(ymin = 90, ymax = 170)\n",
    "plt.legend()\n",
    "plt.show()"
   ]
  }
 ],
 "metadata": {
  "kernelspec": {
   "display_name": "Python 3",
   "language": "python",
   "name": "python3"
  },
  "language_info": {
   "codemirror_mode": {
    "name": "ipython",
    "version": 3
   },
   "file_extension": ".py",
   "mimetype": "text/x-python",
   "name": "python",
   "nbconvert_exporter": "python",
   "pygments_lexer": "ipython3",
   "version": "3.6.1"
  }
 },
 "nbformat": 4,
 "nbformat_minor": 2
}
